{
  "cells": [
    {
      "cell_type": "markdown",
      "id": "73bc9548",
      "metadata": {
        "id": "73bc9548"
      },
      "source": [
        "# Analysis of IMDB Data"
      ]
    },
    {
      "cell_type": "markdown",
      "id": "7679c0c0",
      "metadata": {
        "id": "7679c0c0"
      },
      "source": [
        "We will analyze a subset of IMDB's actors, genres, movie actors, and movie ratings data. This dataset comes to us from Kaggle (https://www.kaggle.com/datasets/ashirwadsangwan/imdb-dataset) although we have taken steps to pull this data into a publis s3 bucket:\n",
        "\n",
        "* s3://cis9760-lecture9-movieanalysis/name.basics.tsv ---> Name Basics\n",
        "* s3://cis9760-lecture9-movieanalysis/title.basics.tsv ---> Title Basics\n",
        "* s3://cis9760-lecture9-movieanalysis/title.principals.tsv ---> Title Principles\n",
        "* s3://cis9760-lecture9-movieanalysis/title.ratings.tsv ---> Title Ratings"
      ]
    },
    {
      "cell_type": "markdown",
      "id": "c1dde3fb",
      "metadata": {
        "id": "c1dde3fb"
      },
      "source": [
        "# Content\n",
        "\n",
        "**<br />name.basics.tsv.gz – Contains the following information for names:**\n",
        "<br />nconst (string) - alphanumeric unique identifier of the name/person.\n",
        "<br />primaryName (string)– name by which the person is most often credited.\n",
        "<br />birthYear – in YYYY format.\n",
        "<br />deathYear – in YYYY format if applicable, else .\n",
        "<br />primaryProfession (array of strings)– the top-3 professions of the person.\n",
        "<br />knownForTitles (array of tconsts) – titles the person is known for.\n",
        "<br/><br/>\n",
        "**<br />title.basics.tsv.gz - Contains the following information for titles:**\n",
        "<br />tconst (string) - alphanumeric unique identifier of the title.\n",
        "<br />titleType (string) – the type/format of the title (e.g. movie, short, tvseries, tvepisode, video, etc).\n",
        "<br />primaryTitle (string) – the more popular title / the title used by the filmmakers on promotional materials at the point of release.\n",
        "<br />originalTitle (string) - original title, in the original language.\n",
        "<br />isAdult (boolean) - 0: non-adult title; 1: adult title.\n",
        "<br />startYear (YYYY) – represents the release year of a title. In the case of TV Series, it is the series start year.\n",
        "<br />endYear (YYYY) – TV Series end year. for all other title types.\n",
        "<br />runtimeMinutes – primary runtime of the title, in minutes.\n",
        "<br />genres (string array) – includes up to three genres associated with the title.\n",
        "<br/><br/>\n",
        "**<br />title.principals.tsv – Contains the principal cast/crew for titles:**\n",
        "<br />tconst (string) - alphanumeric unique identifier of the title.\n",
        "<br />ordering (integer) – a number to uniquely identify rows for a given titleId.\n",
        "<br />nconst (string) - alphanumeric unique identifier of the name/person.\n",
        "<br />category (string) - the category of job that person was in.\n",
        "<br />job (string) - the specific job title if applicable, else.\n",
        "<br />characters (string) - the name of the character played if applicable, else.\n",
        "<br/><br/>\n",
        "**<br />title.ratings.tsv.gz – Contains the IMDb rating and votes information for titles:**\n",
        "<br />tconst (string) - alphanumeric unique identifier of the title.\n",
        "<br />averageRating – weighted average of all the individual user ratings.\n",
        "<br />numVotes - number of votes the title has received."
      ]
    },
    {
      "cell_type": "markdown",
      "id": "08416e6e",
      "metadata": {
        "id": "08416e6e"
      },
      "source": [
        "# PART 1 - Installation and Initial Setup"
      ]
    },
    {
      "cell_type": "markdown",
      "id": "04b07b9f",
      "metadata": {
        "id": "04b07b9f"
      },
      "source": [
        "Begin by installing the necessary libraries that you may need to conduct your analysis. At the very least, you must install pandas and matplotlib"
      ]
    },
    {
      "cell_type": "code",
      "execution_count": null,
      "id": "0c8b0667",
      "metadata": {
        "execution": {
          "iopub.execute_input": "2023-12-13T01:12:02.437661Z",
          "iopub.status.busy": "2023-12-13T01:12:02.437342Z",
          "iopub.status.idle": "2023-12-13T01:12:02.451187Z",
          "shell.execute_reply": "2023-12-13T01:12:02.450477Z",
          "shell.execute_reply.started": "2023-12-13T01:12:02.437628Z"
        },
        "tags": [],
        "id": "0c8b0667",
        "outputId": "f10d49c3-afb5-4b40-f8b3-a4a548a1ade9"
      },
      "outputs": [
        {
          "data": {
            "text/html": [
              "Current session configs: <tt>{'proxyUser': 'user_EMR-User', 'conf': {'spark.pyspark.python': 'python3', 'spark.pyspark.virtualenv.enabled': 'true', 'spark.pyspark.virtualenv.type': 'native', 'spark.pyspark.virtualenv.bin.path': '/usr/bin/virtualenv'}, 'kind': 'pyspark'}</tt><br>"
            ],
            "text/plain": [
              "<IPython.core.display.HTML object>"
            ]
          },
          "metadata": {},
          "output_type": "display_data"
        },
        {
          "data": {
            "text/html": [
              "No active sessions."
            ],
            "text/plain": [
              "<IPython.core.display.HTML object>"
            ]
          },
          "metadata": {},
          "output_type": "display_data"
        }
      ],
      "source": [
        "%%info"
      ]
    },
    {
      "cell_type": "markdown",
      "id": "1fc39c6b",
      "metadata": {
        "id": "1fc39c6b"
      },
      "source": [
        "Let's install the necessary packages here"
      ]
    },
    {
      "cell_type": "code",
      "execution_count": null,
      "id": "e0a576cf",
      "metadata": {
        "execution": {
          "iopub.execute_input": "2023-12-13T01:12:02.464992Z",
          "iopub.status.busy": "2023-12-13T01:12:02.464736Z",
          "iopub.status.idle": "2023-12-13T01:12:56.389099Z",
          "shell.execute_reply": "2023-12-13T01:12:56.388044Z",
          "shell.execute_reply.started": "2023-12-13T01:12:02.464967Z"
        },
        "tags": [],
        "id": "e0a576cf",
        "outputId": "ad2a98ee-8ae1-48bc-a8a6-4ea1d8850e55",
        "colab": {
          "referenced_widgets": [
            "f9ecba4a8c25433a8613427dca049427",
            ""
          ]
        }
      },
      "outputs": [
        {
          "data": {
            "application/vnd.jupyter.widget-view+json": {
              "model_id": "f9ecba4a8c25433a8613427dca049427",
              "version_major": 2,
              "version_minor": 0
            },
            "text/plain": [
              "VBox()"
            ]
          },
          "metadata": {},
          "output_type": "display_data"
        },
        {
          "name": "stdout",
          "output_type": "stream",
          "text": [
            "Starting Spark application\n"
          ]
        },
        {
          "data": {
            "text/html": [
              "<table>\n<tbody><tr><th>ID</th><th>YARN Application ID</th><th>Kind</th><th>State</th><th>Spark UI</th><th>Driver log</th><th>User</th><th>Current session?</th></tr><tr><td>1</td><td>application_1702413091228_0002</td><td>pyspark</td><td>idle</td><td><a target=\"_blank\" href=\"http://ip-172-31-22-127.us-east-2.compute.internal:20888/proxy/application_1702413091228_0002/\" class=\"emr-proxy-link j-19XYO5X46JA61 application_1702413091228_0002\" emr-resource=\"j-19XYO5X46JA61\n\" application-id=\"application_1702413091228_0002\">Link</a></td><td><a target=\"_blank\" href=\"http://ip-172-31-30-103.us-east-2.compute.internal:8042/node/containerlogs/container_1702413091228_0002_01_000001/livy\">Link</a></td><td>None</td><td>✔</td></tr></tbody></table>"
            ],
            "text/plain": [
              "<IPython.core.display.HTML object>"
            ]
          },
          "metadata": {},
          "output_type": "display_data"
        },
        {
          "data": {
            "application/vnd.jupyter.widget-view+json": {
              "model_id": "",
              "version_major": 2,
              "version_minor": 0
            },
            "text/plain": [
              "FloatProgress(value=0.0, bar_style='info', description='Progress:', layout=Layout(height='25px', width='50%'),…"
            ]
          },
          "metadata": {},
          "output_type": "display_data"
        },
        {
          "name": "stdout",
          "output_type": "stream",
          "text": [
            "SparkSession available as 'spark'.\n"
          ]
        },
        {
          "data": {
            "application/vnd.jupyter.widget-view+json": {
              "model_id": "",
              "version_major": 2,
              "version_minor": 0
            },
            "text/plain": [
              "FloatProgress(value=0.0, bar_style='info', description='Progress:', layout=Layout(height='25px', width='50%'),…"
            ]
          },
          "metadata": {},
          "output_type": "display_data"
        },
        {
          "name": "stdout",
          "output_type": "stream",
          "text": [
            "Collecting pandas==1.0.5\n",
            "  Downloading pandas-1.0.5-cp37-cp37m-manylinux1_x86_64.whl (10.1 MB)\n",
            "Collecting python-dateutil>=2.6.1\n",
            "  Downloading python_dateutil-2.8.2-py2.py3-none-any.whl (247 kB)\n",
            "Requirement already satisfied: pytz>=2017.2 in /usr/local/lib/python3.7/site-packages (from pandas==1.0.5) (2023.3)\n",
            "Requirement already satisfied: numpy>=1.13.3 in /usr/local/lib64/python3.7/site-packages (from pandas==1.0.5) (1.20.0)\n",
            "Requirement already satisfied: six>=1.5 in /usr/local/lib/python3.7/site-packages (from python-dateutil>=2.6.1->pandas==1.0.5) (1.13.0)\n",
            "Installing collected packages: python-dateutil, pandas\n",
            "Successfully installed pandas-1.0.5 python-dateutil-2.8.2\n",
            "\n",
            "Collecting matplotlib==3.2.1\n",
            "  Downloading matplotlib-3.2.1-cp37-cp37m-manylinux1_x86_64.whl (12.4 MB)\n",
            "Collecting cycler>=0.10\n",
            "  Downloading cycler-0.11.0-py3-none-any.whl (6.4 kB)\n",
            "Collecting pyparsing!=2.0.4,!=2.1.2,!=2.1.6,>=2.0.1\n",
            "  Downloading pyparsing-3.1.1-py3-none-any.whl (103 kB)\n",
            "Requirement already satisfied: numpy>=1.11 in /usr/local/lib64/python3.7/site-packages (from matplotlib==3.2.1) (1.20.0)\n",
            "Requirement already satisfied: python-dateutil>=2.1 in ./tmp/spark-bea0abd9-bf09-43e9-abb4-64d292e89901/lib/python3.7/site-packages (from matplotlib==3.2.1) (2.8.2)\n",
            "Collecting kiwisolver>=1.0.1\n",
            "  Downloading kiwisolver-1.4.5-cp37-cp37m-manylinux_2_5_x86_64.manylinux1_x86_64.whl (1.1 MB)\n",
            "Requirement already satisfied: six>=1.5 in /usr/local/lib/python3.7/site-packages (from python-dateutil>=2.1->matplotlib==3.2.1) (1.13.0)\n",
            "Collecting typing-extensions; python_version < \"3.8\"\n",
            "  Downloading typing_extensions-4.7.1-py3-none-any.whl (33 kB)\n",
            "Installing collected packages: cycler, pyparsing, typing-extensions, kiwisolver, matplotlib\n",
            "Successfully installed cycler-0.11.0 kiwisolver-1.4.5 matplotlib-3.2.1 pyparsing-3.1.1 typing-extensions-4.7.1\n",
            "\n",
            "Collecting seaborn==0.11.2\n",
            "  Downloading seaborn-0.11.2-py3-none-any.whl (292 kB)\n",
            "Requirement already satisfied: pandas>=0.23 in ./tmp/spark-bea0abd9-bf09-43e9-abb4-64d292e89901/lib/python3.7/site-packages (from seaborn==0.11.2) (1.0.5)\n",
            "Collecting scipy>=1.0\n",
            "  Downloading scipy-1.7.3-cp37-cp37m-manylinux_2_12_x86_64.manylinux2010_x86_64.whl (38.1 MB)\n",
            "Requirement already satisfied: matplotlib>=2.2 in ./tmp/spark-bea0abd9-bf09-43e9-abb4-64d292e89901/lib/python3.7/site-packages (from seaborn==0.11.2) (3.2.1)\n",
            "Requirement already satisfied: numpy>=1.15 in /usr/local/lib64/python3.7/site-packages (from seaborn==0.11.2) (1.20.0)\n",
            "Requirement already satisfied: python-dateutil>=2.6.1 in ./tmp/spark-bea0abd9-bf09-43e9-abb4-64d292e89901/lib/python3.7/site-packages (from pandas>=0.23->seaborn==0.11.2) (2.8.2)\n",
            "Requirement already satisfied: pytz>=2017.2 in /usr/local/lib/python3.7/site-packages (from pandas>=0.23->seaborn==0.11.2) (2023.3)\n",
            "Requirement already satisfied: cycler>=0.10 in ./tmp/spark-bea0abd9-bf09-43e9-abb4-64d292e89901/lib/python3.7/site-packages (from matplotlib>=2.2->seaborn==0.11.2) (0.11.0)\n",
            "Requirement already satisfied: pyparsing!=2.0.4,!=2.1.2,!=2.1.6,>=2.0.1 in ./tmp/spark-bea0abd9-bf09-43e9-abb4-64d292e89901/lib/python3.7/site-packages (from matplotlib>=2.2->seaborn==0.11.2) (3.1.1)\n",
            "Requirement already satisfied: kiwisolver>=1.0.1 in ./tmp/spark-bea0abd9-bf09-43e9-abb4-64d292e89901/lib/python3.7/site-packages (from matplotlib>=2.2->seaborn==0.11.2) (1.4.5)\n",
            "Requirement already satisfied: six>=1.5 in /usr/local/lib/python3.7/site-packages (from python-dateutil>=2.6.1->pandas>=0.23->seaborn==0.11.2) (1.13.0)\n",
            "Requirement already satisfied: typing-extensions; python_version < \"3.8\" in ./tmp/spark-bea0abd9-bf09-43e9-abb4-64d292e89901/lib/python3.7/site-packages (from kiwisolver>=1.0.1->matplotlib>=2.2->seaborn==0.11.2) (4.7.1)\n",
            "Installing collected packages: scipy, seaborn\n",
            "Successfully installed scipy-1.7.3 seaborn-0.11.2\n",
            "\n",
            "WARNING: The directory '/home/.cache/pip' or its parent directory is not owned or is not writable by the current user. The cache has been disabled. Check the permissions and owner of that directory. If executing pip with sudo, you may want sudo's -H flag.\n",
            "\n",
            "WARNING: The directory '/home/.cache/pip' or its parent directory is not owned or is not writable by the current user. The cache has been disabled. Check the permissions and owner of that directory. If executing pip with sudo, you may want sudo's -H flag.\n",
            "\n",
            "WARNING: The directory '/home/.cache/pip' or its parent directory is not owned or is not writable by the current user. The cache has been disabled. Check the permissions and owner of that directory. If executing pip with sudo, you may want sudo's -H flag."
          ]
        }
      ],
      "source": [
        "sc.install_pypi_package('pandas==1.0.5')\n",
        "sc.install_pypi_package('matplotlib==3.2.1')\n",
        "sc.install_pypi_package('seaborn==0.11.2')"
      ]
    },
    {
      "cell_type": "markdown",
      "id": "5ab05754",
      "metadata": {
        "id": "5ab05754"
      },
      "source": [
        "Now, import the installed packages from the previous block below."
      ]
    },
    {
      "cell_type": "code",
      "execution_count": null,
      "id": "6d0a7012",
      "metadata": {
        "execution": {
          "iopub.execute_input": "2023-12-13T01:12:56.390569Z",
          "iopub.status.busy": "2023-12-13T01:12:56.390340Z",
          "iopub.status.idle": "2023-12-13T01:12:58.652341Z",
          "shell.execute_reply": "2023-12-13T01:12:58.651578Z",
          "shell.execute_reply.started": "2023-12-13T01:12:56.390546Z"
        },
        "tags": [],
        "id": "6d0a7012",
        "outputId": "82219f90-f678-469a-c7ec-5935425193e2",
        "colab": {
          "referenced_widgets": [
            "5520cb9a8ed842628a7bc77829160977",
            ""
          ]
        }
      },
      "outputs": [
        {
          "data": {
            "application/vnd.jupyter.widget-view+json": {
              "model_id": "5520cb9a8ed842628a7bc77829160977",
              "version_major": 2,
              "version_minor": 0
            },
            "text/plain": [
              "VBox()"
            ]
          },
          "metadata": {},
          "output_type": "display_data"
        },
        {
          "data": {
            "application/vnd.jupyter.widget-view+json": {
              "model_id": "",
              "version_major": 2,
              "version_minor": 0
            },
            "text/plain": [
              "FloatProgress(value=0.0, bar_style='info', description='Progress:', layout=Layout(height='25px', width='50%'),…"
            ]
          },
          "metadata": {},
          "output_type": "display_data"
        }
      ],
      "source": [
        "import pandas as pd\n",
        "import numpy as np\n",
        "import seaborn as sns\n",
        "import matplotlib.pyplot as plt"
      ]
    },
    {
      "cell_type": "markdown",
      "id": "e963f4ba",
      "metadata": {
        "id": "e963f4ba"
      },
      "source": [
        "# Loading Data"
      ]
    },
    {
      "cell_type": "markdown",
      "id": "b4356189",
      "metadata": {
        "id": "b4356189"
      },
      "source": [
        "Load all data from S3 into a Spark dataframe object"
      ]
    },
    {
      "cell_type": "code",
      "execution_count": null,
      "id": "24beddd1",
      "metadata": {
        "execution": {
          "iopub.execute_input": "2023-12-13T01:12:58.653969Z",
          "iopub.status.busy": "2023-12-13T01:12:58.653727Z",
          "iopub.status.idle": "2023-12-13T01:13:07.938994Z",
          "shell.execute_reply": "2023-12-13T01:13:07.938312Z",
          "shell.execute_reply.started": "2023-12-13T01:12:58.653945Z"
        },
        "tags": [],
        "id": "24beddd1",
        "outputId": "3b92cc59-c1fc-496c-aa55-8114f5a1f04c",
        "colab": {
          "referenced_widgets": [
            "07fc5267a5af415eb14886d12cf9408f",
            ""
          ]
        }
      },
      "outputs": [
        {
          "data": {
            "application/vnd.jupyter.widget-view+json": {
              "model_id": "07fc5267a5af415eb14886d12cf9408f",
              "version_major": 2,
              "version_minor": 0
            },
            "text/plain": [
              "VBox()"
            ]
          },
          "metadata": {},
          "output_type": "display_data"
        },
        {
          "data": {
            "application/vnd.jupyter.widget-view+json": {
              "model_id": "",
              "version_major": 2,
              "version_minor": 0
            },
            "text/plain": [
              "FloatProgress(value=0.0, bar_style='info', description='Progress:', layout=Layout(height='25px', width='50%'),…"
            ]
          },
          "metadata": {},
          "output_type": "display_data"
        }
      ],
      "source": [
        "# The data comes from https://www.kaggle.com/datasets/ashirwadsangwan/imdb-dataset\n",
        "name = spark.read.csv('s3://cis9760-lecture9-movieanalysis/name.basics.tsv',\n",
        "                      sep=r'\\t',\n",
        "                      header=True)\n",
        "titles = spark.read.csv('s3://cis9760-lecture9-movieanalysis/title.basics.tsv',\n",
        "                        sep=r'\\t',\n",
        "                        header=True)\n",
        "principles = spark.read.csv(\n",
        "    's3://cis9760-lecture9-movieanalysis/title.principals.tsv',\n",
        "    sep=r'\\t',\n",
        "    header=True)\n",
        "ratings = spark.read.csv(\n",
        "    's3://cis9760-lecture9-movieanalysis/title.ratings.tsv',\n",
        "    sep=r'\\t',\n",
        "    header=True)"
      ]
    },
    {
      "cell_type": "markdown",
      "id": "c65401c7",
      "metadata": {
        "id": "c65401c7"
      },
      "source": [
        "## Name Basics"
      ]
    },
    {
      "cell_type": "markdown",
      "id": "03981851",
      "metadata": {
        "id": "03981851"
      },
      "source": [
        "Display the schema below:"
      ]
    },
    {
      "cell_type": "code",
      "execution_count": null,
      "id": "98b95e51",
      "metadata": {
        "execution": {
          "iopub.execute_input": "2023-12-13T01:13:07.940472Z",
          "iopub.status.busy": "2023-12-13T01:13:07.940244Z",
          "iopub.status.idle": "2023-12-13T01:13:08.184578Z",
          "shell.execute_reply": "2023-12-13T01:13:08.183869Z",
          "shell.execute_reply.started": "2023-12-13T01:13:07.940449Z"
        },
        "tags": [],
        "id": "98b95e51",
        "outputId": "46efc6f3-af4a-4985-fcd2-af73ae058201",
        "colab": {
          "referenced_widgets": [
            "d37fa1b7a43f44198fb6fa19d366a6ab",
            ""
          ]
        }
      },
      "outputs": [
        {
          "data": {
            "application/vnd.jupyter.widget-view+json": {
              "model_id": "d37fa1b7a43f44198fb6fa19d366a6ab",
              "version_major": 2,
              "version_minor": 0
            },
            "text/plain": [
              "VBox()"
            ]
          },
          "metadata": {},
          "output_type": "display_data"
        },
        {
          "data": {
            "application/vnd.jupyter.widget-view+json": {
              "model_id": "",
              "version_major": 2,
              "version_minor": 0
            },
            "text/plain": [
              "FloatProgress(value=0.0, bar_style='info', description='Progress:', layout=Layout(height='25px', width='50%'),…"
            ]
          },
          "metadata": {},
          "output_type": "display_data"
        },
        {
          "name": "stdout",
          "output_type": "stream",
          "text": [
            "root\n",
            " |-- nconst: string (nullable = true)\n",
            " |-- primaryName: string (nullable = true)\n",
            " |-- birthYear: string (nullable = true)\n",
            " |-- deathYear: string (nullable = true)\n",
            " |-- primaryProfession: string (nullable = true)\n",
            " |-- knownForTitles: string (nullable = true)"
          ]
        }
      ],
      "source": [
        "name.printSchema()"
      ]
    },
    {
      "cell_type": "markdown",
      "id": "dfd8a219",
      "metadata": {
        "id": "dfd8a219"
      },
      "source": [
        "Display the first 5 rows with the following columns:\n",
        "\n",
        "* `primaryName`\n",
        "* `birthYear`\n",
        "* `deathYear`\n",
        "* `knownForTitles`"
      ]
    },
    {
      "cell_type": "code",
      "execution_count": null,
      "id": "29db2340",
      "metadata": {
        "execution": {
          "iopub.execute_input": "2023-12-13T01:13:08.185810Z",
          "iopub.status.busy": "2023-12-13T01:13:08.185580Z",
          "iopub.status.idle": "2023-12-13T01:13:08.942808Z",
          "shell.execute_reply": "2023-12-13T01:13:08.942117Z",
          "shell.execute_reply.started": "2023-12-13T01:13:08.185787Z"
        },
        "tags": [],
        "id": "29db2340",
        "outputId": "3e2bf586-a14c-43bb-e0a6-83ea320b8e75",
        "colab": {
          "referenced_widgets": [
            "a4db68114d0b4aebb05b17d070d252f5",
            ""
          ]
        }
      },
      "outputs": [
        {
          "data": {
            "application/vnd.jupyter.widget-view+json": {
              "model_id": "a4db68114d0b4aebb05b17d070d252f5",
              "version_major": 2,
              "version_minor": 0
            },
            "text/plain": [
              "VBox()"
            ]
          },
          "metadata": {},
          "output_type": "display_data"
        },
        {
          "data": {
            "application/vnd.jupyter.widget-view+json": {
              "model_id": "",
              "version_major": 2,
              "version_minor": 0
            },
            "text/plain": [
              "FloatProgress(value=0.0, bar_style='info', description='Progress:', layout=Layout(height='25px', width='50%'),…"
            ]
          },
          "metadata": {},
          "output_type": "display_data"
        },
        {
          "name": "stdout",
          "output_type": "stream",
          "text": [
            "+---------------+---------+---------+--------------------+\n",
            "|    primaryName|birthYear|deathYear|      knownForTitles|\n",
            "+---------------+---------+---------+--------------------+\n",
            "|   Fred Astaire|     1899|     1987|tt0050419,tt00531...|\n",
            "|  Lauren Bacall|     1924|     2014|tt0071877,tt01170...|\n",
            "|Brigitte Bardot|     1934|       \\N|tt0054452,tt00491...|\n",
            "|   John Belushi|     1949|     1982|tt0077975,tt00725...|\n",
            "| Ingmar Bergman|     1918|     2007|tt0069467,tt00509...|\n",
            "+---------------+---------+---------+--------------------+\n",
            "only showing top 5 rows"
          ]
        }
      ],
      "source": [
        "name.select(\"primaryName\", \"birthYear\", \"deathYear\", \"knownForTitles\").show(5)"
      ]
    },
    {
      "cell_type": "markdown",
      "id": "65371453",
      "metadata": {
        "id": "65371453"
      },
      "source": [
        "## Title Basics"
      ]
    },
    {
      "cell_type": "markdown",
      "id": "b95d8c5a",
      "metadata": {
        "id": "b95d8c5a"
      },
      "source": [
        "Display the first 15 rows with the following columns:\n",
        "    \n",
        "* `titleType`\n",
        "* `primaryTitle`\n",
        "* `genres`"
      ]
    },
    {
      "cell_type": "code",
      "execution_count": null,
      "id": "74c95177",
      "metadata": {
        "execution": {
          "iopub.execute_input": "2023-12-13T01:13:08.944068Z",
          "iopub.status.busy": "2023-12-13T01:13:08.943820Z",
          "iopub.status.idle": "2023-12-13T01:13:09.696779Z",
          "shell.execute_reply": "2023-12-13T01:13:09.696095Z",
          "shell.execute_reply.started": "2023-12-13T01:13:08.944043Z"
        },
        "tags": [],
        "id": "74c95177",
        "outputId": "45e0b3bf-6f23-40fc-fc57-ec8a08a40e7c",
        "colab": {
          "referenced_widgets": [
            "aadcb29f35014d609385f83dd803ce5a",
            ""
          ]
        }
      },
      "outputs": [
        {
          "data": {
            "application/vnd.jupyter.widget-view+json": {
              "model_id": "aadcb29f35014d609385f83dd803ce5a",
              "version_major": 2,
              "version_minor": 0
            },
            "text/plain": [
              "VBox()"
            ]
          },
          "metadata": {},
          "output_type": "display_data"
        },
        {
          "data": {
            "application/vnd.jupyter.widget-view+json": {
              "model_id": "",
              "version_major": 2,
              "version_minor": 0
            },
            "text/plain": [
              "FloatProgress(value=0.0, bar_style='info', description='Progress:', layout=Layout(height='25px', width='50%'),…"
            ]
          },
          "metadata": {},
          "output_type": "display_data"
        },
        {
          "name": "stdout",
          "output_type": "stream",
          "text": [
            "+---------+--------------------+--------------------+\n",
            "|titleType|        primaryTitle|              genres|\n",
            "+---------+--------------------+--------------------+\n",
            "|    short|          Carmencita|   Documentary,Short|\n",
            "|    short|Le clown et ses c...|     Animation,Short|\n",
            "|    short|      Pauvre Pierrot|Animation,Comedy,...|\n",
            "|    short|         Un bon bock|     Animation,Short|\n",
            "|    short|    Blacksmith Scene|        Comedy,Short|\n",
            "|    short|   Chinese Opium Den|               Short|\n",
            "|    short|Corbett and Court...|         Short,Sport|\n",
            "|    short|Edison Kinetoscop...|   Documentary,Short|\n",
            "|    movie|          Miss Jerry|             Romance|\n",
            "|    short| Exiting the Factory|   Documentary,Short|\n",
            "|    short|Akrobatisches Pot...|   Documentary,Short|\n",
            "|    short|The Arrival of a ...|Action,Documentar...|\n",
            "|    short|The Photographica...|   Documentary,Short|\n",
            "|    short|The Sprinkler Spr...|        Comedy,Short|\n",
            "|    short| Autour d'une cabine|     Animation,Short|\n",
            "+---------+--------------------+--------------------+\n",
            "only showing top 15 rows"
          ]
        }
      ],
      "source": [
        "titles.select(\"titleType\", \"primaryTitle\", \"genres\").show(15)"
      ]
    },
    {
      "cell_type": "markdown",
      "id": "f3852bb4",
      "metadata": {
        "id": "f3852bb4"
      },
      "source": [
        "Display the unique titles below:"
      ]
    },
    {
      "cell_type": "code",
      "execution_count": null,
      "id": "2a28caff",
      "metadata": {
        "execution": {
          "iopub.execute_input": "2023-12-13T01:13:09.697948Z",
          "iopub.status.busy": "2023-12-13T01:13:09.697720Z",
          "iopub.status.idle": "2023-12-13T01:13:18.984171Z",
          "shell.execute_reply": "2023-12-13T01:13:18.983422Z",
          "shell.execute_reply.started": "2023-12-13T01:13:09.697925Z"
        },
        "tags": [],
        "id": "2a28caff",
        "outputId": "ac70dd72-3c16-4fed-e2f9-93a27c53fbc4",
        "colab": {
          "referenced_widgets": [
            "a9a16ed4a2844d508530f3a693e3fa09",
            ""
          ]
        }
      },
      "outputs": [
        {
          "data": {
            "application/vnd.jupyter.widget-view+json": {
              "model_id": "a9a16ed4a2844d508530f3a693e3fa09",
              "version_major": 2,
              "version_minor": 0
            },
            "text/plain": [
              "VBox()"
            ]
          },
          "metadata": {},
          "output_type": "display_data"
        },
        {
          "data": {
            "application/vnd.jupyter.widget-view+json": {
              "model_id": "",
              "version_major": 2,
              "version_minor": 0
            },
            "text/plain": [
              "FloatProgress(value=0.0, bar_style='info', description='Progress:', layout=Layout(height='25px', width='50%'),…"
            ]
          },
          "metadata": {},
          "output_type": "display_data"
        },
        {
          "name": "stdout",
          "output_type": "stream",
          "text": [
            "+------------+\n",
            "|   titleType|\n",
            "+------------+\n",
            "|    tvSeries|\n",
            "|tvMiniSeries|\n",
            "|       movie|\n",
            "|   videoGame|\n",
            "|   tvSpecial|\n",
            "|       video|\n",
            "|     tvMovie|\n",
            "|   tvEpisode|\n",
            "|     tvShort|\n",
            "|       short|\n",
            "+------------+"
          ]
        }
      ],
      "source": [
        "titles.select(\"titleType\").distinct().show()"
      ]
    },
    {
      "cell_type": "markdown",
      "id": "d8f3c92f",
      "metadata": {
        "id": "d8f3c92f"
      },
      "source": [
        "Display the schema below:"
      ]
    },
    {
      "cell_type": "code",
      "execution_count": null,
      "id": "8334d2fe",
      "metadata": {
        "execution": {
          "iopub.execute_input": "2023-12-13T01:13:18.986647Z",
          "iopub.status.busy": "2023-12-13T01:13:18.986423Z",
          "iopub.status.idle": "2023-12-13T01:13:19.025502Z",
          "shell.execute_reply": "2023-12-13T01:13:19.024601Z",
          "shell.execute_reply.started": "2023-12-13T01:13:18.986625Z"
        },
        "tags": [],
        "id": "8334d2fe",
        "outputId": "5ded8ace-9c57-415e-d6a2-2f91aa0c354f",
        "colab": {
          "referenced_widgets": [
            "6806b2748a46422ba034829845a1858c",
            ""
          ]
        }
      },
      "outputs": [
        {
          "data": {
            "application/vnd.jupyter.widget-view+json": {
              "model_id": "6806b2748a46422ba034829845a1858c",
              "version_major": 2,
              "version_minor": 0
            },
            "text/plain": [
              "VBox()"
            ]
          },
          "metadata": {},
          "output_type": "display_data"
        },
        {
          "data": {
            "application/vnd.jupyter.widget-view+json": {
              "model_id": "",
              "version_major": 2,
              "version_minor": 0
            },
            "text/plain": [
              "FloatProgress(value=0.0, bar_style='info', description='Progress:', layout=Layout(height='25px', width='50%'),…"
            ]
          },
          "metadata": {},
          "output_type": "display_data"
        },
        {
          "name": "stdout",
          "output_type": "stream",
          "text": [
            "root\n",
            " |-- tconst: string (nullable = true)\n",
            " |-- titleType: string (nullable = true)\n",
            " |-- primaryTitle: string (nullable = true)\n",
            " |-- originalTitle: string (nullable = true)\n",
            " |-- isAdult: string (nullable = true)\n",
            " |-- startYear: string (nullable = true)\n",
            " |-- endYear: string (nullable = true)\n",
            " |-- runtimeMinutes: string (nullable = true)\n",
            " |-- genres: string (nullable = true)"
          ]
        }
      ],
      "source": [
        "titles.printSchema()"
      ]
    },
    {
      "cell_type": "markdown",
      "id": "bf21e1b7",
      "metadata": {
        "id": "bf21e1b7"
      },
      "source": [
        "## Title Principles"
      ]
    },
    {
      "cell_type": "markdown",
      "id": "442830b8",
      "metadata": {
        "id": "442830b8"
      },
      "source": [
        "Display the schema below:"
      ]
    },
    {
      "cell_type": "code",
      "execution_count": null,
      "id": "b7241872",
      "metadata": {
        "execution": {
          "iopub.execute_input": "2023-12-13T01:13:19.028184Z",
          "iopub.status.busy": "2023-12-13T01:13:19.027840Z",
          "iopub.status.idle": "2023-12-13T01:13:19.070639Z",
          "shell.execute_reply": "2023-12-13T01:13:19.069930Z",
          "shell.execute_reply.started": "2023-12-13T01:13:19.028147Z"
        },
        "tags": [],
        "id": "b7241872",
        "outputId": "4dfa9b09-d92e-4e5a-bccd-4adfa14be838",
        "colab": {
          "referenced_widgets": [
            "6a34a0b0246f4b2391a306d34c521ad9",
            ""
          ]
        }
      },
      "outputs": [
        {
          "data": {
            "application/vnd.jupyter.widget-view+json": {
              "model_id": "6a34a0b0246f4b2391a306d34c521ad9",
              "version_major": 2,
              "version_minor": 0
            },
            "text/plain": [
              "VBox()"
            ]
          },
          "metadata": {},
          "output_type": "display_data"
        },
        {
          "data": {
            "application/vnd.jupyter.widget-view+json": {
              "model_id": "",
              "version_major": 2,
              "version_minor": 0
            },
            "text/plain": [
              "FloatProgress(value=0.0, bar_style='info', description='Progress:', layout=Layout(height='25px', width='50%'),…"
            ]
          },
          "metadata": {},
          "output_type": "display_data"
        },
        {
          "name": "stdout",
          "output_type": "stream",
          "text": [
            "root\n",
            " |-- tconst: string (nullable = true)\n",
            " |-- ordering: string (nullable = true)\n",
            " |-- nconst: string (nullable = true)\n",
            " |-- category: string (nullable = true)\n",
            " |-- job: string (nullable = true)\n",
            " |-- characters: string (nullable = true)"
          ]
        }
      ],
      "source": [
        "principles.printSchema()"
      ]
    },
    {
      "cell_type": "markdown",
      "id": "e24870d3",
      "metadata": {
        "id": "e24870d3"
      },
      "source": [
        "Display the first 15 rows where the \"category\" column is \"self\""
      ]
    },
    {
      "cell_type": "code",
      "execution_count": null,
      "id": "3f6dbef1",
      "metadata": {
        "execution": {
          "iopub.execute_input": "2023-12-13T01:13:19.072366Z",
          "iopub.status.busy": "2023-12-13T01:13:19.072042Z",
          "iopub.status.idle": "2023-12-13T01:13:19.823870Z",
          "shell.execute_reply": "2023-12-13T01:13:19.823108Z",
          "shell.execute_reply.started": "2023-12-13T01:13:19.072331Z"
        },
        "tags": [],
        "id": "3f6dbef1",
        "outputId": "2812f68d-0a81-443d-95c4-f88af8b319fe",
        "colab": {
          "referenced_widgets": [
            "408f4d21c4974405a414c87844bc6d93",
            ""
          ]
        }
      },
      "outputs": [
        {
          "data": {
            "application/vnd.jupyter.widget-view+json": {
              "model_id": "408f4d21c4974405a414c87844bc6d93",
              "version_major": 2,
              "version_minor": 0
            },
            "text/plain": [
              "VBox()"
            ]
          },
          "metadata": {},
          "output_type": "display_data"
        },
        {
          "data": {
            "application/vnd.jupyter.widget-view+json": {
              "model_id": "",
              "version_major": 2,
              "version_minor": 0
            },
            "text/plain": [
              "FloatProgress(value=0.0, bar_style='info', description='Progress:', layout=Layout(height='25px', width='50%'),…"
            ]
          },
          "metadata": {},
          "output_type": "display_data"
        },
        {
          "name": "stdout",
          "output_type": "stream",
          "text": [
            "+---------+--------+---------+--------+---+--------------------+\n",
            "|   tconst|ordering|   nconst|category|job|          characters|\n",
            "+---------+--------+---------+--------+---+--------------------+\n",
            "|tt0000001|       1|nm1588970|    self| \\N|         [\"Herself\"]|\n",
            "|tt0000012|       1|nm2880396|    self| \\N|         [\"Herself\"]|\n",
            "|tt0000012|       2|nm9735580|    self| \\N|         [\"Himself\"]|\n",
            "|tt0000012|       3|nm0525900|    self| \\N|         [\"Herself\"]|\n",
            "|tt0000012|       4|nm9735581|    self| \\N|         [\"Herself\"]|\n",
            "|tt0000012|       7|nm9735579|    self| \\N|         [\"Herself\"]|\n",
            "|tt0000012|       8|nm9653419|    self| \\N|         [\"Herself\"]|\n",
            "|tt0000013|       1|nm0525908|    self| \\N|         [\"Himself\"]|\n",
            "|tt0000013|       2|nm1715062|    self| \\N|         [\"Himself\"]|\n",
            "|tt0000016|       1|nm0525900|    self| \\N|[\"Herself (on the...|\n",
            "|tt0000016|       2|nm9735581|    self| \\N|[\"Herself (on the...|\n",
            "|tt0000024|       1|nm0256651|    self| \\N|[\"Herself - Empre...|\n",
            "|tt0000024|       2|nm0435118|    self| \\N|[\"Himself - Emper...|\n",
            "|tt0000028|       1|nm2350838|    self| \\N|         [\"Himself\"]|\n",
            "|tt0000028|       2|nm0525908|    self| \\N|         [\"Himself\"]|\n",
            "+---------+--------+---------+--------+---+--------------------+\n",
            "only showing top 15 rows"
          ]
        }
      ],
      "source": [
        "principles.where(principles.category == \"self\").show(15)"
      ]
    },
    {
      "cell_type": "markdown",
      "id": "d8e128fc",
      "metadata": {
        "id": "d8e128fc"
      },
      "source": [
        "## Title Ratings"
      ]
    },
    {
      "cell_type": "markdown",
      "id": "c40d60cd",
      "metadata": {
        "id": "c40d60cd"
      },
      "source": [
        "Display the schema below:"
      ]
    },
    {
      "cell_type": "code",
      "execution_count": null,
      "id": "1ed78395",
      "metadata": {
        "execution": {
          "iopub.execute_input": "2023-12-13T01:13:19.825675Z",
          "iopub.status.busy": "2023-12-13T01:13:19.825322Z",
          "iopub.status.idle": "2023-12-13T01:13:19.867414Z",
          "shell.execute_reply": "2023-12-13T01:13:19.866566Z",
          "shell.execute_reply.started": "2023-12-13T01:13:19.825639Z"
        },
        "tags": [],
        "id": "1ed78395",
        "outputId": "3a27ebe9-acc4-4329-c798-dfe2c102b0a3",
        "colab": {
          "referenced_widgets": [
            "644d357efe19459d8c09d9282b031368",
            ""
          ]
        }
      },
      "outputs": [
        {
          "data": {
            "application/vnd.jupyter.widget-view+json": {
              "model_id": "644d357efe19459d8c09d9282b031368",
              "version_major": 2,
              "version_minor": 0
            },
            "text/plain": [
              "VBox()"
            ]
          },
          "metadata": {},
          "output_type": "display_data"
        },
        {
          "data": {
            "application/vnd.jupyter.widget-view+json": {
              "model_id": "",
              "version_major": 2,
              "version_minor": 0
            },
            "text/plain": [
              "FloatProgress(value=0.0, bar_style='info', description='Progress:', layout=Layout(height='25px', width='50%'),…"
            ]
          },
          "metadata": {},
          "output_type": "display_data"
        },
        {
          "name": "stdout",
          "output_type": "stream",
          "text": [
            "root\n",
            " |-- tconst: string (nullable = true)\n",
            " |-- averageRating: string (nullable = true)\n",
            " |-- numVotes: string (nullable = true)"
          ]
        }
      ],
      "source": [
        "ratings.printSchema()"
      ]
    },
    {
      "cell_type": "markdown",
      "id": "76ac1ac7",
      "metadata": {
        "id": "76ac1ac7"
      },
      "source": [
        "Display the first 10 rows in a descending order by the number of votes"
      ]
    },
    {
      "cell_type": "code",
      "execution_count": null,
      "id": "9f663e07",
      "metadata": {
        "execution": {
          "iopub.execute_input": "2023-12-13T01:13:19.869068Z",
          "iopub.status.busy": "2023-12-13T01:13:19.868741Z",
          "iopub.status.idle": "2023-12-13T01:13:22.127989Z",
          "shell.execute_reply": "2023-12-13T01:13:22.127204Z",
          "shell.execute_reply.started": "2023-12-13T01:13:19.869031Z"
        },
        "tags": [],
        "id": "9f663e07",
        "outputId": "5914913a-6059-47b9-bdfd-1e1c12e99bb9",
        "colab": {
          "referenced_widgets": [
            "0f0aed1ff7394de9a7fef40a2c8ca82b",
            ""
          ]
        }
      },
      "outputs": [
        {
          "data": {
            "application/vnd.jupyter.widget-view+json": {
              "model_id": "0f0aed1ff7394de9a7fef40a2c8ca82b",
              "version_major": 2,
              "version_minor": 0
            },
            "text/plain": [
              "VBox()"
            ]
          },
          "metadata": {},
          "output_type": "display_data"
        },
        {
          "data": {
            "application/vnd.jupyter.widget-view+json": {
              "model_id": "",
              "version_major": 2,
              "version_minor": 0
            },
            "text/plain": [
              "FloatProgress(value=0.0, bar_style='info', description='Progress:', layout=Layout(height='25px', width='50%'),…"
            ]
          },
          "metadata": {},
          "output_type": "display_data"
        },
        {
          "name": "stdout",
          "output_type": "stream",
          "text": [
            "+---------+-------------+--------+\n",
            "|   tconst|averageRating|numVotes|\n",
            "+---------+-------------+--------+\n",
            "|tt0111161|          9.3| 2159745|\n",
            "|tt0468569|          9.0| 2134602|\n",
            "|tt1375666|          8.8| 1892958|\n",
            "|tt0137523|          8.8| 1725444|\n",
            "|tt0110912|          8.9| 1695159|\n",
            "|tt0109830|          8.8| 1662609|\n",
            "|tt0944947|          9.4| 1606096|\n",
            "|tt0133093|          8.7| 1554345|\n",
            "|tt0120737|          8.8| 1548920|\n",
            "|tt0167260|          8.9| 1533632|\n",
            "|tt0068646|          9.2| 1482225|\n",
            "|tt1345836|          8.4| 1421506|\n",
            "|tt0167261|          8.7| 1387208|\n",
            "|tt0816692|          8.6| 1348184|\n",
            "|tt0114369|          8.6| 1327441|\n",
            "+---------+-------------+--------+\n",
            "only showing top 15 rows"
          ]
        }
      ],
      "source": [
        "from pyspark.sql.types import IntegerType\n",
        "\n",
        "ratings = ratings.withColumn(\"numVotes\",\n",
        "                             ratings[\"numVotes\"].cast(IntegerType()))\n",
        "ratings.sort(ratings.numVotes.desc()).show(15)"
      ]
    },
    {
      "cell_type": "markdown",
      "id": "e77cf460",
      "metadata": {
        "id": "e77cf460"
      },
      "source": [
        "# Overview of Data"
      ]
    },
    {
      "cell_type": "markdown",
      "id": "2bc943bf",
      "metadata": {
        "id": "2bc943bf"
      },
      "source": [
        "Display the number of rows and columns in each dataFrame object."
      ]
    },
    {
      "cell_type": "code",
      "execution_count": null,
      "id": "15b35f7a",
      "metadata": {
        "execution": {
          "iopub.execute_input": "2023-12-13T01:13:22.129305Z",
          "iopub.status.busy": "2023-12-13T01:13:22.129066Z",
          "iopub.status.idle": "2023-12-13T01:13:39.459198Z",
          "shell.execute_reply": "2023-12-13T01:13:39.458191Z",
          "shell.execute_reply.started": "2023-12-13T01:13:22.129272Z"
        },
        "tags": [],
        "id": "15b35f7a",
        "outputId": "24e2b5e0-9837-442f-ed45-71facba510c3",
        "colab": {
          "referenced_widgets": [
            "81c0b709461c4ed18e9674b7e6493d4b",
            ""
          ]
        }
      },
      "outputs": [
        {
          "data": {
            "application/vnd.jupyter.widget-view+json": {
              "model_id": "81c0b709461c4ed18e9674b7e6493d4b",
              "version_major": 2,
              "version_minor": 0
            },
            "text/plain": [
              "VBox()"
            ]
          },
          "metadata": {},
          "output_type": "display_data"
        },
        {
          "data": {
            "application/vnd.jupyter.widget-view+json": {
              "model_id": "",
              "version_major": 2,
              "version_minor": 0
            },
            "text/plain": [
              "FloatProgress(value=0.0, bar_style='info', description='Progress:', layout=Layout(height='25px', width='50%'),…"
            ]
          },
          "metadata": {},
          "output_type": "display_data"
        },
        {
          "name": "stdout",
          "output_type": "stream",
          "text": [
            "Number of columns in Name Basics table: 6\n",
            "Number of rows in Name Basics table: 9706922\n",
            "\n",
            "Number of columns in Title Basics table: 9\n",
            "Number of rows in Title Basics table: 6321302\n",
            "\n",
            "Number of columns in Principles Basics table: 6\n",
            "Number of rows in Principles Basics table: 36468817\n",
            "\n",
            "Number of columns in Ratings Basics table: 3\n",
            "Number of rows in Ratings Basics table: 993153"
          ]
        }
      ],
      "source": [
        "print(f'Number of columns in Name Basics table: {len(name.columns)}')\n",
        "print(f'Number of rows in Name Basics table: {name.count()}')\n",
        "print('')\n",
        "print(f'Number of columns in Title Basics table: {len(titles.columns)}')\n",
        "print(f'Number of rows in Title Basics table: {titles.count()}')\n",
        "print('')\n",
        "print(f'Number of columns in Principles Basics table: {len(principles.columns)}')\n",
        "print(f'Number of rows in Principles Basics table: {principles.count()}')\n",
        "print('')\n",
        "print(f'Number of columns in Ratings Basics table: {len(ratings.columns)}')\n",
        "print(f'Number of rows in Ratings Basics table: {ratings.count()}')"
      ]
    },
    {
      "cell_type": "markdown",
      "id": "b45c87a7",
      "metadata": {
        "id": "b45c87a7"
      },
      "source": [
        "# PART 2 - Analyzing Genres"
      ]
    },
    {
      "cell_type": "markdown",
      "id": "37c839bd",
      "metadata": {
        "id": "37c839bd"
      },
      "source": [
        "Let's now answer this question: how many unique genres are represented in this dataset?\n",
        "\n",
        "Essentially, we have the genres per movie as a list - this is useful to quickly see what each movie might be represented as but it is difficult to easily answer questions such as:\n",
        "\n",
        "* How many movies are categorized as Comedy, for instance?\n",
        "* What are the top 20 most popular genres available?"
      ]
    },
    {
      "cell_type": "markdown",
      "id": "509eb185",
      "metadata": {
        "id": "509eb185"
      },
      "source": [
        "## Association Table\n",
        "\n",
        "We need to \"break out\" these genres from the tconst? One common approach to take is to build an association table mapping a single tconst multiple times to each distinct genre.\n",
        "\n",
        "For instance, given the following:\n",
        "\n",
        "\n",
        "| tconst   | titleType  |genres |\n",
        "|----------|------------|-------|\n",
        "| abcd123  | XXX        |a,b,c  |\n",
        "\n",
        "We would like to derive something like:\n",
        "\n",
        "| tconst   |  titleType |genre |\n",
        "|----------|------------|------|\n",
        "| abcd123  | XXX        |a     |\n",
        "| abcd123  | XXX        |b     |\n",
        "| abcd123  | XXX        |c     |\n",
        "\n",
        "\n",
        "What this does is allow us to then perform a myriad of rollups and other analysis on this association table which can aid us in answering the questions asked above.\n",
        "\n",
        "Implement the code necessary to derive the table described from the data set"
      ]
    },
    {
      "cell_type": "code",
      "execution_count": null,
      "id": "6da24c15",
      "metadata": {
        "execution": {
          "iopub.execute_input": "2023-12-13T01:13:39.460666Z",
          "iopub.status.busy": "2023-12-13T01:13:39.460437Z",
          "iopub.status.idle": "2023-12-13T01:13:39.712878Z",
          "shell.execute_reply": "2023-12-13T01:13:39.712071Z",
          "shell.execute_reply.started": "2023-12-13T01:13:39.460642Z"
        },
        "tags": [],
        "id": "6da24c15",
        "outputId": "c3af9343-d696-47cb-bbda-30f54dff5ea6",
        "colab": {
          "referenced_widgets": [
            "1204f72320cb47bcac132054aa0e3138",
            ""
          ]
        }
      },
      "outputs": [
        {
          "data": {
            "application/vnd.jupyter.widget-view+json": {
              "model_id": "1204f72320cb47bcac132054aa0e3138",
              "version_major": 2,
              "version_minor": 0
            },
            "text/plain": [
              "VBox()"
            ]
          },
          "metadata": {},
          "output_type": "display_data"
        },
        {
          "data": {
            "application/vnd.jupyter.widget-view+json": {
              "model_id": "",
              "version_major": 2,
              "version_minor": 0
            },
            "text/plain": [
              "FloatProgress(value=0.0, bar_style='info', description='Progress:', layout=Layout(height='25px', width='50%'),…"
            ]
          },
          "metadata": {},
          "output_type": "display_data"
        },
        {
          "name": "stdout",
          "output_type": "stream",
          "text": [
            "+---------+---------+--------------------+\n",
            "|   tconst|titleType|              genres|\n",
            "+---------+---------+--------------------+\n",
            "|tt0000001|    short|   Documentary,Short|\n",
            "|tt0000002|    short|     Animation,Short|\n",
            "|tt0000003|    short|Animation,Comedy,...|\n",
            "|tt0000004|    short|     Animation,Short|\n",
            "|tt0000005|    short|        Comedy,Short|\n",
            "+---------+---------+--------------------+\n",
            "only showing top 5 rows"
          ]
        }
      ],
      "source": [
        "titles.select(\"tconst\", \"titleType\", \"genres\").show(5)"
      ]
    },
    {
      "cell_type": "markdown",
      "id": "7e215c7e",
      "metadata": {
        "id": "7e215c7e"
      },
      "source": [
        "Display the first 10 rows of your association table below"
      ]
    },
    {
      "cell_type": "code",
      "execution_count": null,
      "id": "eee1cc98",
      "metadata": {
        "execution": {
          "iopub.execute_input": "2023-12-13T01:13:39.714536Z",
          "iopub.status.busy": "2023-12-13T01:13:39.714202Z",
          "iopub.status.idle": "2023-12-13T01:13:40.480199Z",
          "shell.execute_reply": "2023-12-13T01:13:40.479358Z",
          "shell.execute_reply.started": "2023-12-13T01:13:39.714499Z"
        },
        "tags": [],
        "id": "eee1cc98",
        "outputId": "f402305a-9ec5-4187-8594-a9c072f8722d",
        "colab": {
          "referenced_widgets": [
            "3f105d4fce674ba0b87cb5fbc017add6",
            ""
          ]
        }
      },
      "outputs": [
        {
          "data": {
            "application/vnd.jupyter.widget-view+json": {
              "model_id": "3f105d4fce674ba0b87cb5fbc017add6",
              "version_major": 2,
              "version_minor": 0
            },
            "text/plain": [
              "VBox()"
            ]
          },
          "metadata": {},
          "output_type": "display_data"
        },
        {
          "data": {
            "application/vnd.jupyter.widget-view+json": {
              "model_id": "",
              "version_major": 2,
              "version_minor": 0
            },
            "text/plain": [
              "FloatProgress(value=0.0, bar_style='info', description='Progress:', layout=Layout(height='25px', width='50%'),…"
            ]
          },
          "metadata": {},
          "output_type": "display_data"
        },
        {
          "name": "stdout",
          "output_type": "stream",
          "text": [
            "+---------+---------+-----------+\n",
            "|   tconst|titleType|      genre|\n",
            "+---------+---------+-----------+\n",
            "|tt0000001|    short|Documentary|\n",
            "|tt0000001|    short|      Short|\n",
            "|tt0000002|    short|  Animation|\n",
            "|tt0000002|    short|      Short|\n",
            "|tt0000003|    short|  Animation|\n",
            "|tt0000003|    short|     Comedy|\n",
            "|tt0000003|    short|    Romance|\n",
            "|tt0000004|    short|  Animation|\n",
            "|tt0000004|    short|      Short|\n",
            "|tt0000005|    short|     Comedy|\n",
            "+---------+---------+-----------+\n",
            "only showing top 10 rows"
          ]
        }
      ],
      "source": [
        "from pyspark.sql.functions import explode, split, col\n",
        "\n",
        "titles_split = titles.withColumn('genre', explode(split(col('genres'), ',')))\n",
        "titles_split.select(\"tconst\", \"titleType\", \"genre\").show(10)"
      ]
    },
    {
      "cell_type": "markdown",
      "id": "9a80280d",
      "metadata": {
        "id": "9a80280d"
      },
      "source": [
        "## Total Unique Genres"
      ]
    },
    {
      "cell_type": "markdown",
      "id": "b0db9e0c",
      "metadata": {
        "id": "b0db9e0c"
      },
      "source": [
        "**What is the total number of unique genres available in the movie title type?**"
      ]
    },
    {
      "cell_type": "code",
      "execution_count": null,
      "id": "c6044252",
      "metadata": {
        "execution": {
          "iopub.execute_input": "2023-12-13T01:13:40.481844Z",
          "iopub.status.busy": "2023-12-13T01:13:40.481512Z",
          "iopub.status.idle": "2023-12-13T01:13:47.780162Z",
          "shell.execute_reply": "2023-12-13T01:13:47.779128Z",
          "shell.execute_reply.started": "2023-12-13T01:13:40.481807Z"
        },
        "tags": [],
        "id": "c6044252",
        "outputId": "95899493-bf79-476b-e675-06a29c252e23",
        "colab": {
          "referenced_widgets": [
            "efe46d3ecf1e4744899f05f9a08ff399",
            ""
          ]
        }
      },
      "outputs": [
        {
          "data": {
            "application/vnd.jupyter.widget-view+json": {
              "model_id": "efe46d3ecf1e4744899f05f9a08ff399",
              "version_major": 2,
              "version_minor": 0
            },
            "text/plain": [
              "VBox()"
            ]
          },
          "metadata": {},
          "output_type": "display_data"
        },
        {
          "data": {
            "application/vnd.jupyter.widget-view+json": {
              "model_id": "",
              "version_major": 2,
              "version_minor": 0
            },
            "text/plain": [
              "FloatProgress(value=0.0, bar_style='info', description='Progress:', layout=Layout(height='25px', width='50%'),…"
            ]
          },
          "metadata": {},
          "output_type": "display_data"
        },
        {
          "name": "stdout",
          "output_type": "stream",
          "text": [
            "29"
          ]
        }
      ],
      "source": [
        "movies = titles_split.filter(col('titleType') == 'movie')\n",
        "movies.select('genre').distinct().count()"
      ]
    },
    {
      "cell_type": "markdown",
      "id": "5819adcc",
      "metadata": {
        "id": "5819adcc"
      },
      "source": [
        "**What are the unique genres available?**"
      ]
    },
    {
      "cell_type": "code",
      "execution_count": null,
      "id": "2ecdf3ad",
      "metadata": {
        "execution": {
          "iopub.execute_input": "2023-12-13T01:13:47.781869Z",
          "iopub.status.busy": "2023-12-13T01:13:47.781546Z",
          "iopub.status.idle": "2023-12-13T01:13:55.073051Z",
          "shell.execute_reply": "2023-12-13T01:13:55.072295Z",
          "shell.execute_reply.started": "2023-12-13T01:13:47.781831Z"
        },
        "tags": [],
        "id": "2ecdf3ad",
        "outputId": "3ac503c2-9e95-4d94-c15e-5edbf40e6d42",
        "colab": {
          "referenced_widgets": [
            "0e87226f21c24ee18f58cfa41ecca2d6",
            ""
          ]
        }
      },
      "outputs": [
        {
          "data": {
            "application/vnd.jupyter.widget-view+json": {
              "model_id": "0e87226f21c24ee18f58cfa41ecca2d6",
              "version_major": 2,
              "version_minor": 0
            },
            "text/plain": [
              "VBox()"
            ]
          },
          "metadata": {},
          "output_type": "display_data"
        },
        {
          "data": {
            "application/vnd.jupyter.widget-view+json": {
              "model_id": "",
              "version_major": 2,
              "version_minor": 0
            },
            "text/plain": [
              "FloatProgress(value=0.0, bar_style='info', description='Progress:', layout=Layout(height='25px', width='50%'),…"
            ]
          },
          "metadata": {},
          "output_type": "display_data"
        },
        {
          "name": "stdout",
          "output_type": "stream",
          "text": [
            "+-----------+\n",
            "|      genre|\n",
            "+-----------+\n",
            "|    Mystery|\n",
            "|    Musical|\n",
            "|      Sport|\n",
            "|     Action|\n",
            "|  Talk-Show|\n",
            "|    Romance|\n",
            "|   Thriller|\n",
            "|         \\N|\n",
            "| Reality-TV|\n",
            "|     Family|\n",
            "|    Fantasy|\n",
            "|    History|\n",
            "|  Animation|\n",
            "|  Film-Noir|\n",
            "|      Short|\n",
            "|     Sci-Fi|\n",
            "|       News|\n",
            "|      Drama|\n",
            "|Documentary|\n",
            "|    Western|\n",
            "|     Comedy|\n",
            "|      Crime|\n",
            "|        War|\n",
            "|  Game-Show|\n",
            "|      Adult|\n",
            "|      Music|\n",
            "|  Biography|\n",
            "|  Adventure|\n",
            "|     Horror|\n",
            "+-----------+"
          ]
        }
      ],
      "source": [
        "movies.select(\"genre\").distinct().show(29)"
      ]
    },
    {
      "cell_type": "markdown",
      "id": "4c5f3022",
      "metadata": {
        "id": "4c5f3022"
      },
      "source": [
        "**Oops! Something is off!**"
      ]
    },
    {
      "cell_type": "code",
      "execution_count": null,
      "id": "e699b5ae",
      "metadata": {
        "execution": {
          "iopub.execute_input": "2023-12-13T01:13:55.074334Z",
          "iopub.status.busy": "2023-12-13T01:13:55.073979Z",
          "iopub.status.idle": "2023-12-13T01:14:02.359741Z",
          "shell.execute_reply": "2023-12-13T01:14:02.358803Z",
          "shell.execute_reply.started": "2023-12-13T01:13:55.074297Z"
        },
        "tags": [],
        "id": "e699b5ae",
        "outputId": "a90bf1e8-02f8-4981-c468-84379e9eac15",
        "colab": {
          "referenced_widgets": [
            "57b194305c7f4493959a4d000e2419ed",
            ""
          ]
        }
      },
      "outputs": [
        {
          "data": {
            "application/vnd.jupyter.widget-view+json": {
              "model_id": "57b194305c7f4493959a4d000e2419ed",
              "version_major": 2,
              "version_minor": 0
            },
            "text/plain": [
              "VBox()"
            ]
          },
          "metadata": {},
          "output_type": "display_data"
        },
        {
          "data": {
            "application/vnd.jupyter.widget-view+json": {
              "model_id": "",
              "version_major": 2,
              "version_minor": 0
            },
            "text/plain": [
              "FloatProgress(value=0.0, bar_style='info', description='Progress:', layout=Layout(height='25px', width='50%'),…"
            ]
          },
          "metadata": {},
          "output_type": "display_data"
        },
        {
          "name": "stdout",
          "output_type": "stream",
          "text": [
            "+-----------+\n",
            "|      genre|\n",
            "+-----------+\n",
            "|    Mystery|\n",
            "|    Musical|\n",
            "|      Sport|\n",
            "|     Action|\n",
            "|  Talk-Show|\n",
            "|    Romance|\n",
            "|   Thriller|\n",
            "| Reality-TV|\n",
            "|     Family|\n",
            "|    Fantasy|\n",
            "|    History|\n",
            "|  Animation|\n",
            "|  Film-Noir|\n",
            "|      Short|\n",
            "|     Sci-Fi|\n",
            "|       News|\n",
            "|      Drama|\n",
            "|Documentary|\n",
            "|    Western|\n",
            "|     Comedy|\n",
            "|      Crime|\n",
            "|        War|\n",
            "|  Game-Show|\n",
            "|      Adult|\n",
            "|      Music|\n",
            "|  Biography|\n",
            "|  Adventure|\n",
            "|     Horror|\n",
            "+-----------+"
          ]
        }
      ],
      "source": [
        "movies_cleaned = movies.filter(movies.genre != \"\\\\N\")\n",
        "movies_cleaned.select(\"genre\").distinct().show(28)"
      ]
    },
    {
      "cell_type": "markdown",
      "id": "b7d29ebd",
      "metadata": {
        "id": "b7d29ebd"
      },
      "source": [
        "## Top Genres by Movies\n",
        "\n",
        "Now let's find the highest rated genres in this dataset by rolling up genres."
      ]
    },
    {
      "cell_type": "markdown",
      "id": "de4c28e3",
      "metadata": {
        "id": "de4c28e3"
      },
      "source": [
        "### Average Rating / Genre"
      ]
    },
    {
      "cell_type": "markdown",
      "id": "49f1153c",
      "metadata": {
        "id": "49f1153c"
      },
      "source": [
        "So now, let's unroll our distinct count a bit and display the per average rating value of per genre.\n",
        "\n",
        "The expected output should be:\n",
        "\n",
        "| genre | averageRating |\n",
        "|-------------|------------|\n",
        "| a     | 8.5         |\n",
        "| b     | 6.3         |\n",
        "| c     | 7.2         |\n",
        "\n",
        "Or something to that effect."
      ]
    },
    {
      "cell_type": "markdown",
      "id": "15423dc6",
      "metadata": {
        "id": "15423dc6"
      },
      "source": [
        "First, let's join our two dataframes (movie ratings and genres) by tconst"
      ]
    },
    {
      "cell_type": "code",
      "execution_count": null,
      "id": "9b2be75b-49cd-46dd-892d-7fce2aa07d22",
      "metadata": {
        "execution": {
          "iopub.execute_input": "2023-12-13T01:14:02.361443Z",
          "iopub.status.busy": "2023-12-13T01:14:02.361092Z",
          "iopub.status.idle": "2023-12-13T01:14:05.626603Z",
          "shell.execute_reply": "2023-12-13T01:14:05.625764Z",
          "shell.execute_reply.started": "2023-12-13T01:14:02.361406Z"
        },
        "tags": [],
        "id": "9b2be75b-49cd-46dd-892d-7fce2aa07d22",
        "outputId": "e1a01c96-bd01-4304-f48e-fa0e2f5d2438",
        "colab": {
          "referenced_widgets": [
            "b883e48975794b6aad6fa141d907f824",
            ""
          ]
        }
      },
      "outputs": [
        {
          "data": {
            "application/vnd.jupyter.widget-view+json": {
              "model_id": "b883e48975794b6aad6fa141d907f824",
              "version_major": 2,
              "version_minor": 0
            },
            "text/plain": [
              "VBox()"
            ]
          },
          "metadata": {},
          "output_type": "display_data"
        },
        {
          "data": {
            "application/vnd.jupyter.widget-view+json": {
              "model_id": "",
              "version_major": 2,
              "version_minor": 0
            },
            "text/plain": [
              "FloatProgress(value=0.0, bar_style='info', description='Progress:', layout=Layout(height='25px', width='50%'),…"
            ]
          },
          "metadata": {},
          "output_type": "display_data"
        },
        {
          "name": "stdout",
          "output_type": "stream",
          "text": [
            "+-----------+-------------+\n",
            "|      genre|averageRating|\n",
            "+-----------+-------------+\n",
            "|    Romance|          5.4|\n",
            "|Documentary|          5.2|\n",
            "|       News|          5.2|\n",
            "|      Sport|          5.2|\n",
            "|  Biography|          6.2|\n",
            "|      Drama|          6.2|\n",
            "|  Biography|          6.1|\n",
            "|      Crime|          6.1|\n",
            "|      Drama|          6.1|\n",
            "|      Drama|          4.8|\n",
            "+-----------+-------------+\n",
            "only showing top 10 rows"
          ]
        }
      ],
      "source": [
        "from pyspark.sql.types import FloatType\n",
        "\n",
        "ratings = ratings.withColumn(\"averageRating\", col(\"averageRating\").cast(\"float\"))\n",
        "ratings_genre_avg = movies_cleaned.join(ratings, \"tconst\")\n",
        "ratings_genre_avg.select(\"genre\", \"averageRating\").show(10)"
      ]
    },
    {
      "cell_type": "markdown",
      "id": "98094ca8",
      "metadata": {
        "id": "98094ca8"
      },
      "source": [
        "Now, let's aggregate along the averageRating column to get a resultant dataframe that displays average rating per genre."
      ]
    },
    {
      "cell_type": "code",
      "execution_count": null,
      "id": "317c522c",
      "metadata": {
        "execution": {
          "iopub.execute_input": "2023-12-13T01:14:05.628412Z",
          "iopub.status.busy": "2023-12-13T01:14:05.628080Z",
          "iopub.status.idle": "2023-12-13T01:14:14.922619Z",
          "shell.execute_reply": "2023-12-13T01:14:14.921706Z",
          "shell.execute_reply.started": "2023-12-13T01:14:05.628374Z"
        },
        "tags": [],
        "id": "317c522c",
        "outputId": "852c7a28-5816-4500-b77a-703fca4b9fb7",
        "colab": {
          "referenced_widgets": [
            "6f9fb9743a904f018bbd658c098289d4",
            ""
          ]
        }
      },
      "outputs": [
        {
          "data": {
            "application/vnd.jupyter.widget-view+json": {
              "model_id": "6f9fb9743a904f018bbd658c098289d4",
              "version_major": 2,
              "version_minor": 0
            },
            "text/plain": [
              "VBox()"
            ]
          },
          "metadata": {},
          "output_type": "display_data"
        },
        {
          "data": {
            "application/vnd.jupyter.widget-view+json": {
              "model_id": "",
              "version_major": 2,
              "version_minor": 0
            },
            "text/plain": [
              "FloatProgress(value=0.0, bar_style='info', description='Progress:', layout=Layout(height='25px', width='50%'),…"
            ]
          },
          "metadata": {},
          "output_type": "display_data"
        },
        {
          "name": "stdout",
          "output_type": "stream",
          "text": [
            "+-----------+-----------------+\n",
            "|      genre|       avg_rating|\n",
            "+-----------+-----------------+\n",
            "|    Mystery|5.940437537126316|\n",
            "|    Musical|6.203246053185319|\n",
            "|      Sport|6.600145190943391|\n",
            "|     Action|5.718734067904495|\n",
            "|  Talk-Show|5.800000190734863|\n",
            "|    Romance|6.125714179294426|\n",
            "|   Thriller|5.625967567519544|\n",
            "| Reality-TV|6.379310377712907|\n",
            "|     Family|6.250560452699635|\n",
            "|    Fantasy|5.924820762891499|\n",
            "|    History|6.822718117193864|\n",
            "|  Animation|6.326203749467441|\n",
            "|  Film-Noir|6.636246780503378|\n",
            "|      Short|7.259999942779541|\n",
            "|     Sci-Fi|5.325150006900168|\n",
            "|       News|7.200916040944689|\n",
            "|      Drama|6.288080211097538|\n",
            "|Documentary|7.245469805371099|\n",
            "|    Western|5.948970991005059|\n",
            "|     Comedy|5.941363107822231|\n",
            "+-----------+-----------------+\n",
            "only showing top 20 rows"
          ]
        }
      ],
      "source": [
        "from pyspark.sql.functions import avg\n",
        "\n",
        "avg_rating_genre = ratings_genre_avg.groupBy('genre').agg(avg('averageRating').alias('avg_rating'))\n",
        "avg_rating_genre.show(20)"
      ]
    },
    {
      "cell_type": "markdown",
      "id": "b1fd4e61",
      "metadata": {
        "id": "b1fd4e61"
      },
      "source": [
        "### Horizontal Bar Chart of Top Genres\n",
        "\n",
        "With this data available, let us now build a barchart of all genres\n",
        "\n",
        "**HINT**: don't forget about the matplotlib magic!\n",
        "\n",
        "```\n",
        "%matplot plt\n",
        "```"
      ]
    },
    {
      "cell_type": "code",
      "execution_count": null,
      "id": "2865ccdb",
      "metadata": {
        "execution": {
          "iopub.execute_input": "2023-12-13T01:14:14.925459Z",
          "iopub.status.busy": "2023-12-13T01:14:14.923953Z",
          "iopub.status.idle": "2023-12-13T01:14:24.223833Z",
          "shell.execute_reply": "2023-12-13T01:14:24.222977Z",
          "shell.execute_reply.started": "2023-12-13T01:14:14.925420Z"
        },
        "tags": [],
        "id": "2865ccdb",
        "outputId": "6c5d8a23-8b44-419f-eb99-b78279e2cc12",
        "colab": {
          "referenced_widgets": [
            "91f3b1f9cdb146bd98c3e4b08c34becc",
            ""
          ]
        }
      },
      "outputs": [
        {
          "data": {
            "application/vnd.jupyter.widget-view+json": {
              "model_id": "91f3b1f9cdb146bd98c3e4b08c34becc",
              "version_major": 2,
              "version_minor": 0
            },
            "text/plain": [
              "VBox()"
            ]
          },
          "metadata": {},
          "output_type": "display_data"
        },
        {
          "data": {
            "application/vnd.jupyter.widget-view+json": {
              "model_id": "",
              "version_major": 2,
              "version_minor": 0
            },
            "text/plain": [
              "FloatProgress(value=0.0, bar_style='info', description='Progress:', layout=Layout(height='25px', width='50%'),…"
            ]
          },
          "metadata": {},
          "output_type": "display_data"
        },
        {
          "name": "stdout",
          "output_type": "stream",
          "text": [
            "+-----------+-----------------+\n",
            "|      genre|       avg_rating|\n",
            "+-----------+-----------------+\n",
            "|      Short|7.259999942779541|\n",
            "|Documentary|7.245469805371099|\n",
            "|       News|7.200916040944689|\n",
            "|  Biography|6.983637643044585|\n",
            "|  Game-Show|6.974999904632568|\n",
            "|    History|6.822718117193864|\n",
            "|      Music|6.752020207214588|\n",
            "|  Film-Noir|6.636246780503378|\n",
            "|      Sport|6.600145190943391|\n",
            "|        War|6.483807036278403|\n",
            "| Reality-TV|6.379310377712907|\n",
            "|  Animation|6.326203749467441|\n",
            "|      Drama|6.288080211097538|\n",
            "|     Family|6.250560452699635|\n",
            "|    Musical|6.203246053185319|\n",
            "|    Romance|6.125714179294426|\n",
            "|      Crime|6.026013333109149|\n",
            "|    Western|5.948970991005059|\n",
            "|     Comedy|5.941363107822231|\n",
            "|    Mystery|5.940437537126316|\n",
            "+-----------+-----------------+\n",
            "only showing top 20 rows"
          ]
        }
      ],
      "source": [
        "from pyspark.sql.functions import desc\n",
        "\n",
        "desc_avg_ratings = avg_rating_genre.orderBy(desc('avg_rating'))\n",
        "desc_avg_ratings.show(20)"
      ]
    },
    {
      "cell_type": "code",
      "execution_count": null,
      "id": "4a868d3d",
      "metadata": {
        "execution": {
          "iopub.execute_input": "2023-12-13T01:14:24.225472Z",
          "iopub.status.busy": "2023-12-13T01:14:24.225136Z",
          "iopub.status.idle": "2023-12-13T01:14:33.521775Z",
          "shell.execute_reply": "2023-12-13T01:14:33.520891Z",
          "shell.execute_reply.started": "2023-12-13T01:14:24.225434Z"
        },
        "tags": [],
        "id": "4a868d3d",
        "outputId": "8f13247c-e743-4dd1-87d1-c2ea2070966f",
        "colab": {
          "referenced_widgets": [
            "f6c1e238153942659159220ffb0d914b",
            ""
          ]
        }
      },
      "outputs": [
        {
          "data": {
            "application/vnd.jupyter.widget-view+json": {
              "model_id": "f6c1e238153942659159220ffb0d914b",
              "version_major": 2,
              "version_minor": 0
            },
            "text/plain": [
              "VBox()"
            ]
          },
          "metadata": {},
          "output_type": "display_data"
        },
        {
          "data": {
            "application/vnd.jupyter.widget-view+json": {
              "model_id": "",
              "version_major": 2,
              "version_minor": 0
            },
            "text/plain": [
              "FloatProgress(value=0.0, bar_style='info', description='Progress:', layout=Layout(height='25px', width='50%'),…"
            ]
          },
          "metadata": {},
          "output_type": "display_data"
        },
        {
          "data": {
            "image/png": "[encoded data removed]",
            "text/plain": [
              "<IPython.core.display.Image object>"
            ]
          },
          "metadata": {},
          "output_type": "display_data"
        }
      ],
      "source": [
        "average_ratings_ordered_df = desc_avg_ratings.toPandas()\n",
        "plt.figure(figsize=(14, 8))\n",
        "plt.barh(average_ratings_ordered_df['genre'],\n",
        "         average_ratings_ordered_df['avg_rating'],\n",
        "         color='purple',\n",
        "         label='avg_rating')\n",
        "plt.legend()\n",
        "plt.xlabel('Average Rating')\n",
        "plt.ylabel('Genre')\n",
        "plt.title('Top Genres in the Movies Category')\n",
        "plt.xlim(5, average_ratings_ordered_df['avg_rating'].max() + 0.5)\n",
        "plt.gca().invert_yaxis()\n",
        "plt.tight_layout()\n",
        "%matplot plt"
      ]
    },
    {
      "cell_type": "markdown",
      "id": "3671c612",
      "metadata": {
        "tags": [],
        "id": "3671c612"
      },
      "source": [
        "## PART 3 - Analyzing Job Categories"
      ]
    },
    {
      "cell_type": "markdown",
      "id": "2912a0ba",
      "metadata": {
        "id": "2912a0ba"
      },
      "source": [
        "## Total Unique Job Categories"
      ]
    },
    {
      "cell_type": "markdown",
      "id": "099531c0",
      "metadata": {
        "id": "099531c0"
      },
      "source": [
        "**What is the total number of unique job categories?**"
      ]
    },
    {
      "cell_type": "code",
      "execution_count": null,
      "id": "bf5ea336",
      "metadata": {
        "execution": {
          "iopub.execute_input": "2023-12-13T01:14:33.527337Z",
          "iopub.status.busy": "2023-12-13T01:14:33.527003Z",
          "iopub.status.idle": "2023-12-13T01:14:33.958856Z",
          "shell.execute_reply": "2023-12-13T01:14:33.956686Z",
          "shell.execute_reply.started": "2023-12-13T01:14:33.527301Z"
        },
        "tags": [],
        "id": "bf5ea336",
        "outputId": "a62f9dcc-47d1-4eee-dde0-5c8089755b4e",
        "colab": {
          "referenced_widgets": [
            "009d9c082d7d4a14b170fdf246916cda",
            ""
          ]
        }
      },
      "outputs": [
        {
          "data": {
            "application/vnd.jupyter.widget-view+json": {
              "model_id": "009d9c082d7d4a14b170fdf246916cda",
              "version_major": 2,
              "version_minor": 0
            },
            "text/plain": [
              "VBox()"
            ]
          },
          "metadata": {},
          "output_type": "display_data"
        },
        {
          "data": {
            "application/vnd.jupyter.widget-view+json": {
              "model_id": "",
              "version_major": 2,
              "version_minor": 0
            },
            "text/plain": [
              "FloatProgress(value=0.0, bar_style='info', description='Progress:', layout=Layout(height='25px', width='50%'),…"
            ]
          },
          "metadata": {},
          "output_type": "display_data"
        },
        {
          "name": "stdout",
          "output_type": "stream",
          "text": [
            "+---------+---------------+\n",
            "|   tconst|       category|\n",
            "+---------+---------------+\n",
            "|tt0000001|           self|\n",
            "|tt0000001|       director|\n",
            "|tt0000001|cinematographer|\n",
            "|tt0000002|       director|\n",
            "|tt0000002|       composer|\n",
            "+---------+---------------+\n",
            "only showing top 5 rows"
          ]
        }
      ],
      "source": [
        "principles.select('tconst', 'category').show(5)"
      ]
    },
    {
      "cell_type": "code",
      "execution_count": null,
      "id": "44203333",
      "metadata": {
        "execution": {
          "iopub.execute_input": "2023-12-13T01:14:33.970701Z",
          "iopub.status.busy": "2023-12-13T01:14:33.970262Z",
          "iopub.status.idle": "2023-12-13T01:14:59.293816Z",
          "shell.execute_reply": "2023-12-13T01:14:59.292970Z",
          "shell.execute_reply.started": "2023-12-13T01:14:33.970661Z"
        },
        "tags": [],
        "id": "44203333",
        "outputId": "b1354a13-c06f-4938-ac2c-71d1fc80c9fe",
        "colab": {
          "referenced_widgets": [
            "4882dababacf4dc18fdd57d0ea181cf8",
            ""
          ]
        }
      },
      "outputs": [
        {
          "data": {
            "application/vnd.jupyter.widget-view+json": {
              "model_id": "4882dababacf4dc18fdd57d0ea181cf8",
              "version_major": 2,
              "version_minor": 0
            },
            "text/plain": [
              "VBox()"
            ]
          },
          "metadata": {},
          "output_type": "display_data"
        },
        {
          "data": {
            "application/vnd.jupyter.widget-view+json": {
              "model_id": "",
              "version_major": 2,
              "version_minor": 0
            },
            "text/plain": [
              "FloatProgress(value=0.0, bar_style='info', description='Progress:', layout=Layout(height='25px', width='50%'),…"
            ]
          },
          "metadata": {},
          "output_type": "display_data"
        },
        {
          "name": "stdout",
          "output_type": "stream",
          "text": [
            "12"
          ]
        }
      ],
      "source": [
        "principles.select('category').distinct().count()"
      ]
    },
    {
      "cell_type": "markdown",
      "id": "c3b2f7b4",
      "metadata": {
        "id": "c3b2f7b4"
      },
      "source": [
        "**What are the unique job categories available?**"
      ]
    },
    {
      "cell_type": "code",
      "execution_count": null,
      "id": "e03438b0",
      "metadata": {
        "execution": {
          "iopub.execute_input": "2023-12-13T01:14:59.294940Z",
          "iopub.status.busy": "2023-12-13T01:14:59.294716Z",
          "iopub.status.idle": "2023-12-13T01:15:24.617555Z",
          "shell.execute_reply": "2023-12-13T01:15:24.616679Z",
          "shell.execute_reply.started": "2023-12-13T01:14:59.294917Z"
        },
        "tags": [],
        "id": "e03438b0",
        "outputId": "98137661-91dc-4213-cc9c-a110c9799c67",
        "colab": {
          "referenced_widgets": [
            "78dbcbb3d2e94027bd505bebdb87f154",
            ""
          ]
        }
      },
      "outputs": [
        {
          "data": {
            "application/vnd.jupyter.widget-view+json": {
              "model_id": "78dbcbb3d2e94027bd505bebdb87f154",
              "version_major": 2,
              "version_minor": 0
            },
            "text/plain": [
              "VBox()"
            ]
          },
          "metadata": {},
          "output_type": "display_data"
        },
        {
          "data": {
            "application/vnd.jupyter.widget-view+json": {
              "model_id": "",
              "version_major": 2,
              "version_minor": 0
            },
            "text/plain": [
              "FloatProgress(value=0.0, bar_style='info', description='Progress:', layout=Layout(height='25px', width='50%'),…"
            ]
          },
          "metadata": {},
          "output_type": "display_data"
        },
        {
          "name": "stdout",
          "output_type": "stream",
          "text": [
            "+-------------------+\n",
            "|           category|\n",
            "+-------------------+\n",
            "|            actress|\n",
            "|           producer|\n",
            "|production_designer|\n",
            "|             writer|\n",
            "|              actor|\n",
            "|    cinematographer|\n",
            "|      archive_sound|\n",
            "|    archive_footage|\n",
            "|               self|\n",
            "|             editor|\n",
            "|           composer|\n",
            "|           director|\n",
            "+-------------------+"
          ]
        }
      ],
      "source": [
        "unique_jobs = principles.select('category').distinct()\n",
        "unique_jobs.show(12)"
      ]
    },
    {
      "cell_type": "markdown",
      "id": "47312540",
      "metadata": {
        "id": "47312540"
      },
      "source": [
        "## Top Job Categories"
      ]
    },
    {
      "cell_type": "markdown",
      "id": "61df21f0",
      "metadata": {
        "id": "61df21f0"
      },
      "source": [
        "Now let's find the top job categories in this dataset by rolling up categories."
      ]
    },
    {
      "cell_type": "markdown",
      "id": "2d56869a",
      "metadata": {
        "id": "2d56869a"
      },
      "source": [
        "### Counts of Titles / Job Category"
      ]
    },
    {
      "cell_type": "markdown",
      "id": "ae87af2f",
      "metadata": {
        "id": "ae87af2f"
      },
      "source": [
        "The expected output should be:\n",
        "\n",
        "| category | count |\n",
        "|-------------|------------|\n",
        "| a     | 15         |\n",
        "| b     | 2          |\n",
        "| c     | 45          |\n",
        "\n",
        "Or something to that effect."
      ]
    },
    {
      "cell_type": "code",
      "execution_count": null,
      "id": "f3d65964",
      "metadata": {
        "execution": {
          "iopub.execute_input": "2023-12-13T01:15:24.618874Z",
          "iopub.status.busy": "2023-12-13T01:15:24.618611Z",
          "iopub.status.idle": "2023-12-13T01:15:49.943529Z",
          "shell.execute_reply": "2023-12-13T01:15:49.942501Z",
          "shell.execute_reply.started": "2023-12-13T01:15:24.618849Z"
        },
        "tags": [],
        "id": "f3d65964",
        "outputId": "099ad106-faee-4516-b1c6-c503d901f02f",
        "colab": {
          "referenced_widgets": [
            "772f71ce803844d392770853b8266bb4",
            ""
          ]
        }
      },
      "outputs": [
        {
          "data": {
            "application/vnd.jupyter.widget-view+json": {
              "model_id": "772f71ce803844d392770853b8266bb4",
              "version_major": 2,
              "version_minor": 0
            },
            "text/plain": [
              "VBox()"
            ]
          },
          "metadata": {},
          "output_type": "display_data"
        },
        {
          "data": {
            "application/vnd.jupyter.widget-view+json": {
              "model_id": "",
              "version_major": 2,
              "version_minor": 0
            },
            "text/plain": [
              "FloatProgress(value=0.0, bar_style='info', description='Progress:', layout=Layout(height='25px', width='50%'),…"
            ]
          },
          "metadata": {},
          "output_type": "display_data"
        },
        {
          "name": "stdout",
          "output_type": "stream",
          "text": [
            "+-------------------+-------+\n",
            "|           category|  count|\n",
            "+-------------------+-------+\n",
            "|            actress|6325097|\n",
            "|           producer|2197866|\n",
            "|production_designer| 285924|\n",
            "|             writer|4811596|\n",
            "|              actor|8493701|\n",
            "|    cinematographer|1300404|\n",
            "|      archive_sound|   2143|\n",
            "|    archive_footage| 209035|\n",
            "|               self|6153089|\n",
            "|             editor|1197669|\n",
            "|           composer|1313187|\n",
            "|           director|4179106|\n",
            "+-------------------+-------+"
          ]
        }
      ],
      "source": [
        "job_categories_count = principles.groupBy('category').count()\n",
        "job_categories_count.show(12)"
      ]
    },
    {
      "cell_type": "markdown",
      "id": "f8671889",
      "metadata": {
        "id": "f8671889"
      },
      "source": [
        "### Bar Chart of Top Job Categories\n",
        "\n",
        "With this data available, let us now build a barchart of the top 5 categories.\n",
        "\n",
        "**HINT**: don't forget about the matplotlib magic!\n",
        "\n",
        "```\n",
        "%matplot plt\n",
        "```"
      ]
    },
    {
      "cell_type": "code",
      "execution_count": null,
      "id": "3c73edf1",
      "metadata": {
        "execution": {
          "iopub.execute_input": "2023-12-13T01:15:49.945305Z",
          "iopub.status.busy": "2023-12-13T01:15:49.944946Z",
          "iopub.status.idle": "2023-12-13T01:16:15.281240Z",
          "shell.execute_reply": "2023-12-13T01:16:15.280194Z",
          "shell.execute_reply.started": "2023-12-13T01:15:49.945261Z"
        },
        "tags": [],
        "id": "3c73edf1",
        "outputId": "5973e528-c6f1-4dc9-a277-10ea0df47b1b",
        "colab": {
          "referenced_widgets": [
            "b921cd18bf5e42da89ffbf1770a7c711",
            ""
          ]
        }
      },
      "outputs": [
        {
          "data": {
            "application/vnd.jupyter.widget-view+json": {
              "model_id": "b921cd18bf5e42da89ffbf1770a7c711",
              "version_major": 2,
              "version_minor": 0
            },
            "text/plain": [
              "VBox()"
            ]
          },
          "metadata": {},
          "output_type": "display_data"
        },
        {
          "data": {
            "application/vnd.jupyter.widget-view+json": {
              "model_id": "",
              "version_major": 2,
              "version_minor": 0
            },
            "text/plain": [
              "FloatProgress(value=0.0, bar_style='info', description='Progress:', layout=Layout(height='25px', width='50%'),…"
            ]
          },
          "metadata": {},
          "output_type": "display_data"
        },
        {
          "name": "stdout",
          "output_type": "stream",
          "text": [
            "+-------------------+-------+\n",
            "|           category|  count|\n",
            "+-------------------+-------+\n",
            "|              actor|8493701|\n",
            "|            actress|6325097|\n",
            "|               self|6153089|\n",
            "|             writer|4811596|\n",
            "|           director|4179106|\n",
            "|           producer|2197866|\n",
            "|           composer|1313187|\n",
            "|    cinematographer|1300404|\n",
            "|             editor|1197669|\n",
            "|production_designer| 285924|\n",
            "|    archive_footage| 209035|\n",
            "|      archive_sound|   2143|\n",
            "+-------------------+-------+"
          ]
        }
      ],
      "source": [
        "top_job_categories = job_categories_count.orderBy(col('count').desc())\n",
        "top_job_categories.show(12)"
      ]
    },
    {
      "cell_type": "code",
      "execution_count": null,
      "id": "eb4608e8-96d1-45d2-9d30-f53b5cd12688",
      "metadata": {
        "execution": {
          "iopub.execute_input": "2023-12-13T01:16:15.282757Z",
          "iopub.status.busy": "2023-12-13T01:16:15.282528Z",
          "iopub.status.idle": "2023-12-13T01:16:40.607397Z",
          "shell.execute_reply": "2023-12-13T01:16:40.606669Z",
          "shell.execute_reply.started": "2023-12-13T01:16:15.282733Z"
        },
        "tags": [],
        "id": "eb4608e8-96d1-45d2-9d30-f53b5cd12688",
        "outputId": "ddc42b9d-48bc-47e6-a066-6126424e5716",
        "colab": {
          "referenced_widgets": [
            "2d8db27e411e4294b6aaa2cb2b8485da",
            ""
          ]
        }
      },
      "outputs": [
        {
          "data": {
            "application/vnd.jupyter.widget-view+json": {
              "model_id": "2d8db27e411e4294b6aaa2cb2b8485da",
              "version_major": 2,
              "version_minor": 0
            },
            "text/plain": [
              "VBox()"
            ]
          },
          "metadata": {},
          "output_type": "display_data"
        },
        {
          "data": {
            "application/vnd.jupyter.widget-view+json": {
              "model_id": "",
              "version_major": 2,
              "version_minor": 0
            },
            "text/plain": [
              "FloatProgress(value=0.0, bar_style='info', description='Progress:', layout=Layout(height='25px', width='50%'),…"
            ]
          },
          "metadata": {},
          "output_type": "display_data"
        },
        {
          "data": {
            "image/png": "[encoded data removed]",
            "text/plain": [
              "<IPython.core.display.Image object>"
            ]
          },
          "metadata": {},
          "output_type": "display_data"
        }
      ],
      "source": [
        "top_5_job_categories = top_job_categories.limit(5)\n",
        "top_5_job_categories_pd = top_5_job_categories.toPandas()\n",
        "plt.figure(figsize=(10, 6))\n",
        "bar_chart = plt.bar(top_5_job_categories_pd['category'],\n",
        "                    top_5_job_categories_pd['count'],\n",
        "                    color='orange',\n",
        "                    label='Count')\n",
        "plt.xlabel('Job Categories')\n",
        "plt.ylabel('Count')\n",
        "plt.title('Top Job Categories')\n",
        "plt.xticks(rotation=30)\n",
        "plt.ylim(bottom=3)\n",
        "plt.legend()\n",
        "plt.tight_layout()\n",
        "%matplot plt"
      ]
    },
    {
      "cell_type": "markdown",
      "id": "a4436c54",
      "metadata": {
        "id": "a4436c54"
      },
      "source": [
        "# PART 4 - Answer to the following questions:"
      ]
    },
    {
      "cell_type": "markdown",
      "id": "4c531a7b-8289-4784-825b-fabad415090b",
      "metadata": {
        "id": "4c531a7b-8289-4784-825b-fabad415090b"
      },
      "source": [
        "You will need to join tables to answer the following questions.\n",
        "Your code should meet all the requirements given in the question."
      ]
    },
    {
      "cell_type": "markdown",
      "id": "17273925",
      "metadata": {
        "id": "17273925"
      },
      "source": [
        "## 1) What are the movies in which both Johnny Depp and Helena Bonham Carter have acted together?"
      ]
    },
    {
      "cell_type": "code",
      "execution_count": null,
      "id": "dfced2cd",
      "metadata": {
        "execution": {
          "iopub.execute_input": "2023-12-13T01:16:40.608621Z",
          "iopub.status.busy": "2023-12-13T01:16:40.608392Z",
          "iopub.status.idle": "2023-12-13T01:17:36.017665Z",
          "shell.execute_reply": "2023-12-13T01:17:36.016771Z",
          "shell.execute_reply.started": "2023-12-13T01:16:40.608599Z"
        },
        "tags": [],
        "id": "dfced2cd",
        "outputId": "dc44b3c9-4f35-4b22-ae53-b759d3bf2c38",
        "colab": {
          "referenced_widgets": [
            "288cfe82b4214b9f89693fdc2e4fbeb0",
            ""
          ]
        }
      },
      "outputs": [
        {
          "data": {
            "application/vnd.jupyter.widget-view+json": {
              "model_id": "288cfe82b4214b9f89693fdc2e4fbeb0",
              "version_major": 2,
              "version_minor": 0
            },
            "text/plain": [
              "VBox()"
            ]
          },
          "metadata": {},
          "output_type": "display_data"
        },
        {
          "data": {
            "application/vnd.jupyter.widget-view+json": {
              "model_id": "",
              "version_major": 2,
              "version_minor": 0
            },
            "text/plain": [
              "FloatProgress(value=0.0, bar_style='info', description='Progress:', layout=Layout(height='25px', width='50%'),…"
            ]
          },
          "metadata": {},
          "output_type": "display_data"
        },
        {
          "name": "stdout",
          "output_type": "stream",
          "text": [
            "+--------------------+\n",
            "|        primaryTitle|\n",
            "+--------------------+\n",
            "|        Dark Shadows|\n",
            "|Sweeney Todd: The...|\n",
            "|Alice Through the...|\n",
            "| Alice in Wonderland|\n",
            "|Charlie and the C...|\n",
            "|        Corpse Bride|\n",
            "+--------------------+"
          ]
        }
      ],
      "source": [
        "depp_nconst = name.filter(col(\"primaryName\") == \"Johnny Depp\").select(\"nconst\").distinct()\n",
        "bonham_nconst = name.filter(col(\"primaryName\") == \"Helena Bonham Carter\").select(\"nconst\").distinct()\n",
        "depp_movies = principles.join(depp_nconst, \"nconst\").select(\"tconst\").distinct()\n",
        "bonham_movies = principles.join(bonham_nconst,\"nconst\").select(\"tconst\").distinct()\n",
        "both_movies = depp_movies.join(bonham_movies, \"tconst\")\n",
        "both_movies_titles = both_movies.join(titles.filter(col(\"titleType\") == \"movie\"), \"tconst\").select(\"primaryTitle\")\n",
        "both_movies_titles.show()"
      ]
    },
    {
      "cell_type": "markdown",
      "id": "a43ca52f",
      "metadata": {
        "id": "a43ca52f"
      },
      "source": [
        "## 2) What are the movies in which Brad Pitt has acted since 2010?"
      ]
    },
    {
      "cell_type": "code",
      "execution_count": null,
      "id": "380d9cbf",
      "metadata": {
        "execution": {
          "iopub.execute_input": "2023-12-13T01:17:36.019148Z",
          "iopub.status.busy": "2023-12-13T01:17:36.018908Z",
          "iopub.status.idle": "2023-12-13T01:18:17.385127Z",
          "shell.execute_reply": "2023-12-13T01:18:17.383766Z",
          "shell.execute_reply.started": "2023-12-13T01:17:36.019125Z"
        },
        "tags": [],
        "id": "380d9cbf",
        "outputId": "610dd269-e336-4d43-8dbd-143a58f501c1",
        "colab": {
          "referenced_widgets": [
            "4e4f4d2316df4ca9a4f0d898b59b6810",
            ""
          ]
        }
      },
      "outputs": [
        {
          "data": {
            "application/vnd.jupyter.widget-view+json": {
              "model_id": "4e4f4d2316df4ca9a4f0d898b59b6810",
              "version_major": 2,
              "version_minor": 0
            },
            "text/plain": [
              "VBox()"
            ]
          },
          "metadata": {},
          "output_type": "display_data"
        },
        {
          "data": {
            "application/vnd.jupyter.widget-view+json": {
              "model_id": "",
              "version_major": 2,
              "version_minor": 0
            },
            "text/plain": [
              "FloatProgress(value=0.0, bar_style='info', description='Progress:', layout=Layout(height='25px', width='50%'),…"
            ]
          },
          "metadata": {},
          "output_type": "display_data"
        },
        {
          "name": "stdout",
          "output_type": "stream",
          "text": [
            "+--------------------+---------+\n",
            "|        primaryTitle|startYear|\n",
            "+--------------------+---------+\n",
            "|             Babylon|     2021|\n",
            "|Once Upon a Time ...|     2019|\n",
            "|            Ad Astra|     2019|\n",
            "|         War Machine|     2017|\n",
            "|              Allied|     2016|\n",
            "|       The Big Short|     2015|\n",
            "|          By the Sea|     2015|\n",
            "|                Fury|     2014|\n",
            "|         World War Z|     2013|\n",
            "|    12 Years a Slave|     2013|\n",
            "| Killing Them Softly|     2012|\n",
            "|    The Tree of Life|     2011|\n",
            "|           Moneyball|     2011|\n",
            "+--------------------+---------+"
          ]
        }
      ],
      "source": [
        "brad_pitt_nconst = name.filter(col(\"primaryName\") == \"Brad Pitt\").select(\"nconst\").distinct()\n",
        "brad_pitt_actor_movies = principles.filter(col(\"category\") == \"actor\").join(brad_pitt_nconst, \"nconst\").join(\n",
        "        titles.filter((col(\"titleType\") == \"movie\") & (col(\"startYear\") > 2010)), \"tconst\").select(\"primaryTitle\", \"startYear\")\n",
        "brad_pitt_actor_movies_ordered = brad_pitt_actor_movies.orderBy(col(\"startYear\").desc())\n",
        "brad_pitt_actor_movies_ordered.show()"
      ]
    },
    {
      "cell_type": "markdown",
      "id": "084db6f3",
      "metadata": {
        "id": "084db6f3"
      },
      "source": [
        "## 3) How many movies has Zendaya acted in each year?"
      ]
    },
    {
      "cell_type": "code",
      "execution_count": null,
      "id": "0f7d1874",
      "metadata": {
        "execution": {
          "iopub.execute_input": "2023-12-13T01:18:17.386877Z",
          "iopub.status.busy": "2023-12-13T01:18:17.386542Z",
          "iopub.status.idle": "2023-12-13T01:19:04.780973Z",
          "shell.execute_reply": "2023-12-13T01:19:04.780123Z",
          "shell.execute_reply.started": "2023-12-13T01:18:17.386841Z"
        },
        "tags": [],
        "id": "0f7d1874",
        "outputId": "30b71a9a-6878-44eb-b401-76fb3109e66e",
        "colab": {
          "referenced_widgets": [
            "f69c337c61914f3d9ab0a73ea98c6617",
            ""
          ]
        }
      },
      "outputs": [
        {
          "data": {
            "application/vnd.jupyter.widget-view+json": {
              "model_id": "f69c337c61914f3d9ab0a73ea98c6617",
              "version_major": 2,
              "version_minor": 0
            },
            "text/plain": [
              "VBox()"
            ]
          },
          "metadata": {},
          "output_type": "display_data"
        },
        {
          "data": {
            "application/vnd.jupyter.widget-view+json": {
              "model_id": "",
              "version_major": 2,
              "version_minor": 0
            },
            "text/plain": [
              "FloatProgress(value=0.0, bar_style='info', description='Progress:', layout=Layout(height='25px', width='50%'),…"
            ]
          },
          "metadata": {},
          "output_type": "display_data"
        },
        {
          "name": "stdout",
          "output_type": "stream",
          "text": [
            "+---------+-----+\n",
            "|startYear|count|\n",
            "+---------+-----+\n",
            "|     2020|    1|\n",
            "|     2018|    2|\n",
            "|     2017|    1|\n",
            "+---------+-----+"
          ]
        }
      ],
      "source": [
        "from pyspark.sql.functions import count\n",
        "\n",
        "zendaya_nconst = name.filter(col(\"primaryName\") == \"Zendaya\").select(\"nconst\").distinct()\n",
        "zendaya_movies = principles.join(zendaya_nconst, \"nconst\").join(titles.filter(col(\"titleType\") == \"movie\"),\"tconst\").select(\"primaryTitle\", \"startYear\")\n",
        "movies_per_year = zendaya_movies.filter(zendaya_movies.startYear != \"\\\\N\").groupBy(\"startYear\").agg(count(\"*\").alias(\"count\"))\n",
        "ordered_movies_per_year = movies_per_year.orderBy(col(\"startYear\").desc())\n",
        "ordered_movies_per_year.show()"
      ]
    },
    {
      "cell_type": "markdown",
      "id": "c7ba3bde",
      "metadata": {
        "id": "c7ba3bde"
      },
      "source": [
        "## 4) Which movies, released in 2019, have an average rating exceeding 9.7?"
      ]
    },
    {
      "cell_type": "code",
      "execution_count": null,
      "id": "294883c2",
      "metadata": {
        "execution": {
          "iopub.execute_input": "2023-12-13T01:19:04.782203Z",
          "iopub.status.busy": "2023-12-13T01:19:04.781967Z",
          "iopub.status.idle": "2023-12-13T01:19:12.072286Z",
          "shell.execute_reply": "2023-12-13T01:19:12.071519Z",
          "shell.execute_reply.started": "2023-12-13T01:19:04.782179Z"
        },
        "tags": [],
        "id": "294883c2",
        "outputId": "81dbfe8a-ffc3-4a56-c84d-948032ef0e11",
        "colab": {
          "referenced_widgets": [
            "50da27f302b24e93a41988b08a8dd7e4",
            ""
          ]
        }
      },
      "outputs": [
        {
          "data": {
            "application/vnd.jupyter.widget-view+json": {
              "model_id": "50da27f302b24e93a41988b08a8dd7e4",
              "version_major": 2,
              "version_minor": 0
            },
            "text/plain": [
              "VBox()"
            ]
          },
          "metadata": {},
          "output_type": "display_data"
        },
        {
          "data": {
            "application/vnd.jupyter.widget-view+json": {
              "model_id": "",
              "version_major": 2,
              "version_minor": 0
            },
            "text/plain": [
              "FloatProgress(value=0.0, bar_style='info', description='Progress:', layout=Layout(height='25px', width='50%'),…"
            ]
          },
          "metadata": {},
          "output_type": "display_data"
        },
        {
          "name": "stdout",
          "output_type": "stream",
          "text": [
            "+--------------------+-------------+\n",
            "|        primaryTitle|averageRating|\n",
            "+--------------------+-------------+\n",
            "|    Love in Kilnerry|         10.0|\n",
            "|      A Grunt's Life|         10.0|\n",
            "| The Butcher Baronet|         10.0|\n",
            "|The Twilight Zone...|         10.0|\n",
            "|A Medicine for th...|         10.0|\n",
            "|              Kirket|         10.0|\n",
            "|   L'Enfant Terrible|         10.0|\n",
            "|   Our Scripted Life|         10.0|\n",
            "|Bu Can Var Oldugu...|         10.0|\n",
            "|        The Cardinal|          9.9|\n",
            "|Puritan: All of L...|          9.9|\n",
            "|         Superhombre|          9.9|\n",
            "|   From Shock to Awe|          9.8|\n",
            "|We Shall Not Die Now|          9.8|\n",
            "|            Randhawa|          9.8|\n",
            "|Kamen Rider Zi-O:...|          9.8|\n",
            "|   Gini Helida Kathe|          9.8|\n",
            "|     Time and motion|          9.8|\n",
            "|          Square One|          9.8|\n",
            "+--------------------+-------------+"
          ]
        }
      ],
      "source": [
        "movies_2019 = titles.filter((col(\"titleType\") == \"movie\") &(col(\"startYear\") == 2019))\n",
        "movies_2019_exceeded = movies_2019.join(ratings, \"tconst\").filter(col(\"averageRating\") > 9.7).orderBy(col(\"averageRating\").desc())\n",
        "movies_2019_exceeded.select(\"primaryTitle\", \"averageRating\").show()"
      ]
    },
    {
      "cell_type": "markdown",
      "id": "a884583a-e943-48c3-afdc-54ff6f51ff97",
      "metadata": {
        "id": "a884583a-e943-48c3-afdc-54ff6f51ff97"
      },
      "source": [
        "## 5) Among the titles in which Clint Eastwood and Harrison Ford have acted, who has the higher average rating?\n",
        "\n",
        "First, calculate the average rating of each actor and then show the actor with higher average rating."
      ]
    },
    {
      "cell_type": "code",
      "execution_count": null,
      "id": "df2500aa-0304-4170-9ae2-c15d28473c1b",
      "metadata": {
        "execution": {
          "iopub.execute_input": "2023-12-13T01:19:12.073520Z",
          "iopub.status.busy": "2023-12-13T01:19:12.073292Z",
          "iopub.status.idle": "2023-12-13T01:20:27.558727Z",
          "shell.execute_reply": "2023-12-13T01:20:27.557905Z",
          "shell.execute_reply.started": "2023-12-13T01:19:12.073497Z"
        },
        "tags": [],
        "id": "df2500aa-0304-4170-9ae2-c15d28473c1b",
        "outputId": "4471d56e-5ddd-477d-9cb2-c38b70d4dd2e",
        "colab": {
          "referenced_widgets": [
            "e1eb774ede4048908d680cbc2c891e7f",
            ""
          ]
        }
      },
      "outputs": [
        {
          "data": {
            "application/vnd.jupyter.widget-view+json": {
              "model_id": "e1eb774ede4048908d680cbc2c891e7f",
              "version_major": 2,
              "version_minor": 0
            },
            "text/plain": [
              "VBox()"
            ]
          },
          "metadata": {},
          "output_type": "display_data"
        },
        {
          "data": {
            "application/vnd.jupyter.widget-view+json": {
              "model_id": "",
              "version_major": 2,
              "version_minor": 0
            },
            "text/plain": [
              "FloatProgress(value=0.0, bar_style='info', description='Progress:', layout=Layout(height='25px', width='50%'),…"
            ]
          },
          "metadata": {},
          "output_type": "display_data"
        },
        {
          "name": "stdout",
          "output_type": "stream",
          "text": [
            "The average rating of Harrison Ford is 6.75\n",
            "The average rating of Clint Eastwood is 7.71\n",
            "Clint Eastwood has a higher average rating"
          ]
        }
      ],
      "source": [
        "eastwood_nconst = name.filter(col(\"primaryName\") == \"Clint Eastwood\").select(\"nconst\").distinct()\n",
        "ford_nconst = name.filter(col(\"primaryName\") == \"Harrison Ford\").select(\"nconst\").distinct()\n",
        "eastwood_movies = principles.filter(col(\"category\") == \"actor\").join(eastwood_nconst, \"nconst\").select(\"tconst\").distinct()\n",
        "ford_movies = principles.filter(col(\"category\") == \"actor\").join(ford_nconst, \"nconst\").select(\"tconst\").distinct()\n",
        "eastwood_avg_rating = ratings.join(eastwood_movies, \"tconst\").agg(avg(\"averageRating\").alias(\"eastwood_avg_rating\"))\n",
        "ford_avg_rating = ratings.join(ford_movies, \"tconst\").agg(avg(\"averageRating\").alias(\"ford_avg_rating\"))\n",
        "eastwood_avg_rating_value = eastwood_avg_rating.collect()[0][\"eastwood_avg_rating\"]\n",
        "ford_avg_rating_value = ford_avg_rating.collect()[0][\"ford_avg_rating\"]\n",
        "\n",
        "if eastwood_avg_rating_value > ford_avg_rating_value:\n",
        "    print(f\"The average rating of Harrison Ford is {ford_avg_rating_value:.2f}\")\n",
        "    print(f\"The average rating of Clint Eastwood is {eastwood_avg_rating_value:.2f}\")\n",
        "    print(\"Clint Eastwood has a higher average rating\")\n",
        "else:\n",
        "    print(f\"The average rating of Clint Eastwood is {eastwood_avg_rating_value:.2f}\")\n",
        "    print(f\"The average rating of Harrison Ford is {ford_avg_rating_value:.2f}\")\n",
        "    print(\"Harrison Ford has a higher average rating\")"
      ]
    },
    {
      "cell_type": "markdown",
      "id": "c3fd460a-40ed-459c-b277-26f0e6800bc7",
      "metadata": {
        "id": "c3fd460a-40ed-459c-b277-26f0e6800bc7"
      },
      "source": [
        "## 6) What is the movie(s) with the highest average rating among those in which Chris Evans has acted?\n",
        "\n",
        "Write your code in a way that it finds and displays all movies with the highest rating, even if there's more than one."
      ]
    },
    {
      "cell_type": "code",
      "execution_count": null,
      "id": "5202e408-58aa-45d9-88ac-4cca6d7a9d81",
      "metadata": {
        "execution": {
          "iopub.execute_input": "2023-12-13T01:20:27.560047Z",
          "iopub.status.busy": "2023-12-13T01:20:27.559814Z",
          "iopub.status.idle": "2023-12-13T01:21:53.060351Z",
          "shell.execute_reply": "2023-12-13T01:21:53.059642Z",
          "shell.execute_reply.started": "2023-12-13T01:20:27.560023Z"
        },
        "tags": [],
        "id": "5202e408-58aa-45d9-88ac-4cca6d7a9d81",
        "outputId": "342293df-93bc-40c3-8b86-33be11f3e729",
        "colab": {
          "referenced_widgets": [
            "adcd40c836dd441b88ec50d5b858dc85",
            ""
          ]
        }
      },
      "outputs": [
        {
          "data": {
            "application/vnd.jupyter.widget-view+json": {
              "model_id": "adcd40c836dd441b88ec50d5b858dc85",
              "version_major": 2,
              "version_minor": 0
            },
            "text/plain": [
              "VBox()"
            ]
          },
          "metadata": {},
          "output_type": "display_data"
        },
        {
          "data": {
            "application/vnd.jupyter.widget-view+json": {
              "model_id": "",
              "version_major": 2,
              "version_minor": 0
            },
            "text/plain": [
              "FloatProgress(value=0.0, bar_style='info', description='Progress:', layout=Layout(height='25px', width='50%'),…"
            ]
          },
          "metadata": {},
          "output_type": "display_data"
        },
        {
          "name": "stdout",
          "output_type": "stream",
          "text": [
            "+--------------------+-------------+\n",
            "|        primaryTitle|averageRating|\n",
            "+--------------------+-------------+\n",
            "|Avengers: Infinit...|          8.5|\n",
            "|   Avengers: Endgame|          8.5|\n",
            "+--------------------+-------------+"
          ]
        }
      ],
      "source": [
        "from pyspark.sql.functions import max\n",
        "\n",
        "chris_evans_nconst = name.filter(col(\"primaryName\") == \"Chris Evans\").select(\"nconst\").distinct()\n",
        "chris_evans_tconst = principles.join(chris_evans_nconst,\"nconst\").filter(col(\"category\") == \"actor\").select(\"tconst\")\n",
        "chris_evans_movie_details = chris_evans_tconst.join(titles.filter(col(\"titleType\") == \"movie\"), \"tconst\")\n",
        "chris_evans_movie_ratings = chris_evans_movie_details.join(ratings, \"tconst\")\n",
        "highest_rating = chris_evans_movie_ratings.agg(max(\"averageRating\")).first()[0]\n",
        "highest_rated_movies = chris_evans_movie_ratings.filter(col(\"averageRating\") == highest_rating).select(\"primaryTitle\", \"averageRating\")\n",
        "highest_rated_movies.show()"
      ]
    },
    {
      "cell_type": "markdown",
      "id": "c7086f55-9fa0-40ae-8116-e14ea042d402",
      "metadata": {
        "id": "c7086f55-9fa0-40ae-8116-e14ea042d402"
      },
      "source": [
        "## 7) What is the percentage of adult titles in which actors and actresses have acted?"
      ]
    },
    {
      "cell_type": "code",
      "execution_count": null,
      "id": "e0d93404-a6d8-41d6-bbb1-6c133cd33c6d",
      "metadata": {
        "execution": {
          "iopub.execute_input": "2023-12-13T01:21:53.061642Z",
          "iopub.status.busy": "2023-12-13T01:21:53.061390Z",
          "iopub.status.idle": "2023-12-13T01:25:17.103432Z",
          "shell.execute_reply": "2023-12-13T01:25:17.102365Z",
          "shell.execute_reply.started": "2023-12-13T01:21:53.061619Z"
        },
        "tags": [],
        "id": "e0d93404-a6d8-41d6-bbb1-6c133cd33c6d",
        "outputId": "294fc510-fc0d-450a-9959-5523dc7bb946",
        "colab": {
          "referenced_widgets": [
            "8eb9ca65d0cf42a3884e9c40e9129de3",
            ""
          ]
        }
      },
      "outputs": [
        {
          "data": {
            "application/vnd.jupyter.widget-view+json": {
              "model_id": "8eb9ca65d0cf42a3884e9c40e9129de3",
              "version_major": 2,
              "version_minor": 0
            },
            "text/plain": [
              "VBox()"
            ]
          },
          "metadata": {},
          "output_type": "display_data"
        },
        {
          "data": {
            "application/vnd.jupyter.widget-view+json": {
              "model_id": "",
              "version_major": 2,
              "version_minor": 0
            },
            "text/plain": [
              "FloatProgress(value=0.0, bar_style='info', description='Progress:', layout=Layout(height='25px', width='50%'),…"
            ]
          },
          "metadata": {},
          "output_type": "display_data"
        },
        {
          "name": "stdout",
          "output_type": "stream",
          "text": [
            "Percentage of Adult Titles Actors Have Acted In: 2.14%\n",
            "Percentage of Adult Titles Actresses Have Acted In: 5.33%"
          ]
        }
      ],
      "source": [
        "principles_titles = principles.join(titles, \"tconst\")\n",
        "principles_titles_name = principles_titles.join(name, \"nconst\")\n",
        "full_joined_data = principles_titles_name.join(ratings, \"tconst\")\n",
        "actors_data = full_joined_data.filter(col(\"category\") == \"actor\")\n",
        "actresses_data = full_joined_data.filter(col(\"category\") == \"actress\")\n",
        "count_actors = actors_data.count()\n",
        "count_actresses = actresses_data.count()\n",
        "adult_actors_data = actors_data.filter(col(\"isAdult\") == 1)\n",
        "adult_actresses_data = actresses_data.filter(col(\"isAdult\") == 1)\n",
        "num_adult_actors = adult_actors_data.count()\n",
        "num_adult_actresses = adult_actresses_data.count()\n",
        "percentage_adult_actors = (num_adult_actors / count_actors) * 100\n",
        "percentage_adult_actresses = (num_adult_actresses / count_actresses) * 100\n",
        "print(f\"Percentage of Adult Titles Actors Have Acted In: {percentage_adult_actors:.2f}%\")\n",
        "print(f\"Percentage of Adult Titles Actresses Have Acted In: {percentage_adult_actresses:.2f}%\")"
      ]
    },
    {
      "cell_type": "markdown",
      "id": "08ea8545-0511-472e-b225-c3af64237cd5",
      "metadata": {
        "id": "08ea8545-0511-472e-b225-c3af64237cd5"
      },
      "source": [
        "## 8) What are the top 10 movie genres with the shortest average runtime?\n",
        "\n",
        "You do not need to join tables in this question."
      ]
    },
    {
      "cell_type": "code",
      "execution_count": null,
      "id": "067686da-7232-426a-a922-6ca7bca99ab1",
      "metadata": {
        "execution": {
          "iopub.execute_input": "2023-12-13T01:25:17.105159Z",
          "iopub.status.busy": "2023-12-13T01:25:17.104812Z",
          "iopub.status.idle": "2023-12-13T01:25:24.448333Z",
          "shell.execute_reply": "2023-12-13T01:25:24.447568Z",
          "shell.execute_reply.started": "2023-12-13T01:25:17.105121Z"
        },
        "tags": [],
        "id": "067686da-7232-426a-a922-6ca7bca99ab1",
        "outputId": "573586ea-7579-4278-edfd-79a25a4e0389",
        "colab": {
          "referenced_widgets": [
            "3d73806185084646a10f854c964f9b94",
            ""
          ]
        }
      },
      "outputs": [
        {
          "data": {
            "application/vnd.jupyter.widget-view+json": {
              "model_id": "3d73806185084646a10f854c964f9b94",
              "version_major": 2,
              "version_minor": 0
            },
            "text/plain": [
              "VBox()"
            ]
          },
          "metadata": {},
          "output_type": "display_data"
        },
        {
          "data": {
            "application/vnd.jupyter.widget-view+json": {
              "model_id": "",
              "version_major": 2,
              "version_minor": 0
            },
            "text/plain": [
              "FloatProgress(value=0.0, bar_style='info', description='Progress:', layout=Layout(height='25px', width='50%'),…"
            ]
          },
          "metadata": {},
          "output_type": "display_data"
        },
        {
          "name": "stdout",
          "output_type": "stream",
          "text": [
            "+-----------+-------------------+\n",
            "|      genre|avg(runtimeMinutes)|\n",
            "+-----------+-------------------+\n",
            "|      Short|              18.67|\n",
            "|       News|              66.85|\n",
            "|Documentary|              72.68|\n",
            "| Reality-TV|              76.28|\n",
            "|      Adult|              77.18|\n",
            "|    Western|              79.36|\n",
            "|  Talk-Show|              79.43|\n",
            "|  Animation|              80.75|\n",
            "|  Biography|              81.05|\n",
            "|  Film-Noir|              83.76|\n",
            "+-----------+-------------------+"
          ]
        }
      ],
      "source": [
        "from pyspark.sql.functions import round\n",
        "\n",
        "movies = titles.filter(col(\"titleType\") == \"movie\").withColumn(\"runtimeMinutes\",col(\"runtimeMinutes\").cast(\"integer\"))\n",
        "movies = movies.withColumn(\"genresArray\", split(col(\"genres\"), \",\"))\n",
        "exploded_genres = movies.withColumn(\"genre\", explode(\"genresArray\"))\n",
        "filtered_genres = exploded_genres.filter(col(\"genre\") != \"\\\\N\")\n",
        "avg_runtime_per_genre = filtered_genres.groupBy(\"genre\").agg(round(avg(\"runtimeMinutes\"), 2).alias(\"avg(runtimeMinutes)\"))\n",
        "top_10_shortest_avg_runtime = avg_runtime_per_genre.orderBy(\"avg(runtimeMinutes)\").limit(10)\n",
        "top_10_shortest_avg_runtime.show()"
      ]
    },
    {
      "cell_type": "markdown",
      "id": "867fc752-8ad8-41dd-a21d-bbae10f7295b",
      "metadata": {
        "id": "867fc752-8ad8-41dd-a21d-bbae10f7295b"
      },
      "source": [
        "## 9) What are the most common character names for actors and actresses in Romance movies?"
      ]
    },
    {
      "cell_type": "code",
      "execution_count": null,
      "id": "c757d669-506b-413e-94e0-ee8908fe4327",
      "metadata": {
        "execution": {
          "iopub.execute_input": "2023-12-13T01:25:24.450145Z",
          "iopub.status.busy": "2023-12-13T01:25:24.449654Z",
          "iopub.status.idle": "2023-12-13T01:26:17.872652Z",
          "shell.execute_reply": "2023-12-13T01:26:17.871814Z",
          "shell.execute_reply.started": "2023-12-13T01:25:24.450106Z"
        },
        "tags": [],
        "id": "c757d669-506b-413e-94e0-ee8908fe4327",
        "outputId": "d68d3ef2-e847-408f-aff8-e85c910203c1",
        "colab": {
          "referenced_widgets": [
            "27c71c53d79e4dc2a1cea3030875b5b4",
            ""
          ]
        }
      },
      "outputs": [
        {
          "data": {
            "application/vnd.jupyter.widget-view+json": {
              "model_id": "27c71c53d79e4dc2a1cea3030875b5b4",
              "version_major": 2,
              "version_minor": 0
            },
            "text/plain": [
              "VBox()"
            ]
          },
          "metadata": {},
          "output_type": "display_data"
        },
        {
          "data": {
            "application/vnd.jupyter.widget-view+json": {
              "model_id": "",
              "version_major": 2,
              "version_minor": 0
            },
            "text/plain": [
              "FloatProgress(value=0.0, bar_style='info', description='Progress:', layout=Layout(height='25px', width='50%'),…"
            ]
          },
          "metadata": {},
          "output_type": "display_data"
        },
        {
          "name": "stdout",
          "output_type": "stream",
          "text": [
            "+--------+---------+-----+\n",
            "|category|character|count|\n",
            "+--------+---------+-----+\n",
            "| actress| [\"Anna\"]|  228|\n",
            "|   actor|[\"David\"]|  182|\n",
            "+--------+---------+-----+\n",
            "only showing top 2 rows"
          ]
        }
      ],
      "source": [
        "romance_movies = titles.filter(col(\"titleType\") == \"movie\") \\\n",
        "                       .withColumn(\"genres_array\", split(col(\"genres\"), \",\")) \\\n",
        "                       .withColumn(\"genre\", explode(\"genres_array\")) \\\n",
        "                       .filter(col(\"genre\") == \"Romance\")\n",
        "movie_principals = romance_movies.join(principles, \"tconst\")\n",
        "actors_actresses = movie_principals.filter((col(\"category\") == \"actor\") | (col(\"category\") == \"actress\")).join(name, \"nconst\")\n",
        "characters_exploded = actors_actresses.withColumn(\"characters_array\", split(col(\"characters\"), \",\")) \\\n",
        "                                      .withColumn(\"character\", explode(\"characters_array\")) \\\n",
        "                                      .filter(col(\"character\") != \"\\\\N\")\n",
        "common_characters = characters_exploded.groupBy(\"category\", \"character\").count().orderBy(\"count\", ascending=False)\n",
        "common_characters.show(2)"
      ]
    }
  ],
  "metadata": {
    "kernelspec": {
      "display_name": "PySpark",
      "language": "python",
      "name": "pysparkkernel"
    },
    "language_info": {
      "codemirror_mode": {
        "name": "python",
        "version": 3
      },
      "file_extension": ".py",
      "mimetype": "text/x-python",
      "name": "pyspark",
      "pygments_lexer": "python3"
    },
    "colab": {
      "provenance": []
    }
  },
  "nbformat": 4,
  "nbformat_minor": 5
}